{
  "nbformat": 4,
  "nbformat_minor": 0,
  "metadata": {
    "kernelspec": {
      "display_name": "Python 3",
      "language": "python",
      "name": "python3"
    },
    "language_info": {
      "codemirror_mode": {
        "name": "ipython",
        "version": 3
      },
      "file_extension": ".py",
      "mimetype": "text/x-python",
      "name": "python",
      "nbconvert_exporter": "python",
      "pygments_lexer": "ipython3",
      "version": "3.7.4"
    },
    "colab": {
      "name": "Indabax_Ghana_AutoInland 5th Place Solution.ipynb",
      "provenance": [],
      "collapsed_sections": []
    }
  },
  "cells": [
    {
      "cell_type": "markdown",
      "metadata": {
        "id": "1Vpki3KJKzTl"
      },
      "source": [
        "# IndabaX Ghana AutoInland Vehicle Insurance Claim by Data Science Network\n",
        "\n",
        "The objective of this hackathon is to develop a predictive model that determines if a customer will submit a vehicle insurance claim in the next three months.\n",
        "\n",
        "This solution will help streamline financial planning at AutoInland and allow them to better serve their customers by understanding which customers are likely to submit a claim."
      ]
    },
    {
      "cell_type": "markdown",
      "metadata": {
        "id": "fqIYtm8gKzUE"
      },
      "source": [
        "## Loading required libraries"
      ]
    },
    {
      "cell_type": "code",
      "metadata": {
        "id": "Eu_TpOklKzUN"
      },
      "source": [
        "import pandas as pd\n",
        "import numpy as np\n",
        "import datetime\n",
        "import seaborn as sns\n",
        "import itertools\n",
        "import matplotlib.pyplot as plt\n",
        "from matplotlib.ticker import NullFormatter\n",
        "import matplotlib.ticker as ticker\n",
        "from sklearn import preprocessing\n",
        "from sklearn.model_selection import train_test_split\n",
        "\n",
        "%matplotlib inline\n",
        "\n",
        "import warnings\n",
        "warnings.filterwarnings(\"ignore\")"
      ],
      "execution_count": null,
      "outputs": []
    },
    {
      "cell_type": "code",
      "metadata": {
        "colab": {
          "base_uri": "https://localhost:8080/"
        },
        "id": "hmZdMpEwLWYn",
        "outputId": "4d137cb6-1771-4c40-88db-acc1da86cdad"
      },
      "source": [
        "from google.colab import drive\n",
        "drive.mount('/content/drive')"
      ],
      "execution_count": null,
      "outputs": [
        {
          "output_type": "stream",
          "text": [
            "Drive already mounted at /content/drive; to attempt to forcibly remount, call drive.mount(\"/content/drive\", force_remount=True).\n"
          ],
          "name": "stdout"
        }
      ]
    },
    {
      "cell_type": "code",
      "metadata": {
        "colab": {
          "base_uri": "https://localhost:8080/"
        },
        "id": "GDMSax2LLmHe",
        "outputId": "5ad75fdf-35ec-4784-8a0b-6bd2d425d760"
      },
      "source": [
        "import os\n",
        "os.chdir('/content/drive/My Drive/IndabaX Ghana AutoInland')\n",
        "!ls"
      ],
      "execution_count": null,
      "outputs": [
        {
          "output_type": "stream",
          "text": [
            " Baseline.csv\n",
            " catboost_info\n",
            " cb_new.csv\n",
            " cb_prediction2.csv\n",
            " cb_prediction.csv\n",
            " Ghana_Indabax_AutoInland_Challenge.ipynb\n",
            " Ghana_Indabax_Challenge2.ipynb\n",
            " Indabax_AutoInland.ipynb\n",
            "'Indabax_AutoInland_LGBM_feature_13 - Copy.ipynb'\n",
            "'Indabax_Ghana_AutoInland 5th Place Solution.ipynb'\n",
            " indabax_NigerianStateNames.csv\n",
            " Indabax_Python_StarterNotebook.ipynb\n",
            " indabax_SampleSubmission.csv\n",
            " indabax_Test.csv\n",
            " indabax_Train.csv\n",
            " indabax_VariableDefinitions.csv\n",
            " lgbm_featselect10.csv\n",
            " lgbm_featselect12.csv\n",
            " lgbm_featselect15.csv\n",
            " lgbm_featselect20.csv\n",
            " lgbm_featselect25.csv\n",
            " lgbm_featselect8.csv\n",
            " lgbm_featselect.csv\n",
            " lgbm_fresh11.csv\n",
            " lgbm_fresh15.csv\n",
            " lgbm_fresh20.csv\n",
            " lgbm_fresh30.csv\n",
            " lgbm_fresh50.csv\n",
            " lgbm_fresh.csv\n",
            " lgbm_fresh_cv2.csv\n",
            " lgbm_fresh_cv3.csv\n",
            " lgbm_fresh_cv.csv\n",
            " lgbm_fresh_featselect.csv\n",
            " lgbm_last.csv\n",
            " lgbm_mappercv10.csv\n",
            " lgbm_mappercv10_feat13.csv\n",
            " lgbm_new1.csv\n",
            " lgbm_new2.csv\n",
            " lgbm_new3.csv\n",
            " lgbm_new4.csv\n",
            " lgbm_new5.csv\n",
            " lgbm_new6.csv\n",
            " lgbm_new7.csv\n",
            " lgbm_new8.csv\n",
            " lgbm_new.csv\n",
            " lgbm_no_mapper.csv\n",
            " lgbm_no_mappercv10_feat13.csv\n",
            " lgbm_no_mappercv.csv\n",
            " lgbm_no_mappercv_feat13.csv\n",
            " lgbm_prediction2.csv\n",
            " lgbm_prediction2_featselect10.csv\n",
            " lgbm_prediction2_featselect11.csv\n",
            " lgbm_prediction2_featselect12.csv\n",
            " lgbm_prediction2_featselect13.csv\n",
            " lgbm_prediction2_featselect15.csv\n",
            " lgbm_prediction2_featselect8.csv\n",
            " lgbm_prediction3.csv\n",
            " lgbm_prediction4.csv\n",
            " lgbm_prediction.csv\n",
            " lgbm_prediction_fresh.csv\n",
            "'Mo give up.csv'\n",
            " nn_prediction2.csv\n",
            " nn_prediction.csv\n",
            " reproducibility_prediction.csv\n",
            " rffeat_lgbmodel.csv\n",
            " rf_fresh.csv\n",
            " rf_new.csv\n",
            " rf_new_featselect1.csv\n",
            " rf_new_featselect.csv\n",
            " rf_prediction2.csv\n",
            " rf_prediction.csv\n",
            " xgb_new1.csv\n",
            " xgb_new.csv\n",
            " xgboost_fresh.csv\n",
            " xgboost_fresh_cv.csv\n",
            " xgboost_prediction2.csv\n",
            " xgboost_prediction3.csv\n",
            " xgboost_prediction4.csv\n",
            " xgboost_prediction.csv\n"
          ],
          "name": "stdout"
        }
      ]
    },
    {
      "cell_type": "markdown",
      "metadata": {
        "id": "1OLIGwF8KzUa"
      },
      "source": [
        "### Loading the Dataset"
      ]
    },
    {
      "cell_type": "code",
      "metadata": {
        "id": "SULbZhmLKzUb"
      },
      "source": [
        "# Importing the data\n",
        "\n",
        "try:\n",
        "    train = pd.read_csv(\"indabax_Train.csv\" , low_memory=False)\n",
        "    test = pd.read_csv(\"indabax_Test.csv\" , low_memory=False)\n",
        "    ss = pd.read_csv(\"indabax_SampleSubmission.csv\" , low_memory=False)\n",
        "    ns = pd.read_csv('indabax_NigerianStateNames.csv')\n",
        "    #var_def = pd.read_csv(\"../VariableDefinitions.csv\" , low_memory=False)\n",
        "except:\n",
        "    !colab_download\n",
        "    train = pd.read_csv(\"indabax_Train.csv\" , low_memory=False)\n",
        "    test = pd.read_csv(\"indabax_Test.csv\" , low_memory=False)\n",
        "    ss = pd.read_csv(\"indabax_SampleSubmission.csv\" , low_memory=False)\n",
        "    ns = pd.read_csv('indabax_NigerianStateNames.csv')\n",
        "    #var_def = pd.read_csv(\"../autoinland_VariableDefinitions.csv\" , low_memory=False)"
      ],
      "execution_count": null,
      "outputs": []
    },
    {
      "cell_type": "markdown",
      "metadata": {
        "id": "OjTSZBl_KzUc"
      },
      "source": [
        "### Exploratory Data Analysis"
      ]
    },
    {
      "cell_type": "code",
      "metadata": {
        "id": "kIK-B0uRKzUf",
        "colab": {
          "base_uri": "https://localhost:8080/",
          "height": 323
        },
        "outputId": "3a23466f-5ae6-47a3-8652-b188736200bd"
      },
      "source": [
        "train.head()"
      ],
      "execution_count": null,
      "outputs": [
        {
          "output_type": "execute_result",
          "data": {
            "text/html": [
              "<div>\n",
              "<style scoped>\n",
              "    .dataframe tbody tr th:only-of-type {\n",
              "        vertical-align: middle;\n",
              "    }\n",
              "\n",
              "    .dataframe tbody tr th {\n",
              "        vertical-align: top;\n",
              "    }\n",
              "\n",
              "    .dataframe thead th {\n",
              "        text-align: right;\n",
              "    }\n",
              "</style>\n",
              "<table border=\"1\" class=\"dataframe\">\n",
              "  <thead>\n",
              "    <tr style=\"text-align: right;\">\n",
              "      <th></th>\n",
              "      <th>ID</th>\n",
              "      <th>Policy Start Date</th>\n",
              "      <th>Policy End Date</th>\n",
              "      <th>Gender</th>\n",
              "      <th>Age</th>\n",
              "      <th>First Transaction Date</th>\n",
              "      <th>No_Pol</th>\n",
              "      <th>Car_Category</th>\n",
              "      <th>Subject_Car_Colour</th>\n",
              "      <th>Subject_Car_Make</th>\n",
              "      <th>LGA_Name</th>\n",
              "      <th>State</th>\n",
              "      <th>ProductName</th>\n",
              "      <th>target</th>\n",
              "    </tr>\n",
              "  </thead>\n",
              "  <tbody>\n",
              "    <tr>\n",
              "      <th>0</th>\n",
              "      <td>ID_0040R73</td>\n",
              "      <td>2010-05-14</td>\n",
              "      <td>2011-05-13</td>\n",
              "      <td>Male</td>\n",
              "      <td>30</td>\n",
              "      <td>2010-05-14</td>\n",
              "      <td>1</td>\n",
              "      <td>Saloon</td>\n",
              "      <td>Black</td>\n",
              "      <td>TOYOTA</td>\n",
              "      <td>NaN</td>\n",
              "      <td>NaN</td>\n",
              "      <td>Car Classic</td>\n",
              "      <td>0</td>\n",
              "    </tr>\n",
              "    <tr>\n",
              "      <th>1</th>\n",
              "      <td>ID_0046BNK</td>\n",
              "      <td>2010-11-29</td>\n",
              "      <td>2011-11-28</td>\n",
              "      <td>Female</td>\n",
              "      <td>79</td>\n",
              "      <td>2010-11-29</td>\n",
              "      <td>1</td>\n",
              "      <td>JEEP</td>\n",
              "      <td>Grey</td>\n",
              "      <td>TOYOTA</td>\n",
              "      <td>NaN</td>\n",
              "      <td>NaN</td>\n",
              "      <td>Car Classic</td>\n",
              "      <td>1</td>\n",
              "    </tr>\n",
              "    <tr>\n",
              "      <th>2</th>\n",
              "      <td>ID_005QMC3</td>\n",
              "      <td>2010-03-21</td>\n",
              "      <td>2011-03-20</td>\n",
              "      <td>Male</td>\n",
              "      <td>43</td>\n",
              "      <td>2010-03-21</td>\n",
              "      <td>1</td>\n",
              "      <td>Saloon</td>\n",
              "      <td>Red</td>\n",
              "      <td>TOYOTA</td>\n",
              "      <td>NaN</td>\n",
              "      <td>NaN</td>\n",
              "      <td>Car Classic</td>\n",
              "      <td>0</td>\n",
              "    </tr>\n",
              "    <tr>\n",
              "      <th>3</th>\n",
              "      <td>ID_0079OHW</td>\n",
              "      <td>2010-08-21</td>\n",
              "      <td>2011-08-20</td>\n",
              "      <td>Male</td>\n",
              "      <td>2</td>\n",
              "      <td>2010-08-21</td>\n",
              "      <td>1</td>\n",
              "      <td>NaN</td>\n",
              "      <td>NaN</td>\n",
              "      <td>NaN</td>\n",
              "      <td>NaN</td>\n",
              "      <td>NaN</td>\n",
              "      <td>CarSafe</td>\n",
              "      <td>0</td>\n",
              "    </tr>\n",
              "    <tr>\n",
              "      <th>4</th>\n",
              "      <td>ID_00BRP63</td>\n",
              "      <td>2010-08-29</td>\n",
              "      <td>2010-12-31</td>\n",
              "      <td>Entity</td>\n",
              "      <td>20</td>\n",
              "      <td>2010-08-29</td>\n",
              "      <td>3</td>\n",
              "      <td>NaN</td>\n",
              "      <td>NaN</td>\n",
              "      <td>NaN</td>\n",
              "      <td>Lagos</td>\n",
              "      <td>Lagos</td>\n",
              "      <td>Muuve</td>\n",
              "      <td>1</td>\n",
              "    </tr>\n",
              "  </tbody>\n",
              "</table>\n",
              "</div>"
            ],
            "text/plain": [
              "           ID Policy Start Date Policy End Date  ...  State  ProductName target\n",
              "0  ID_0040R73        2010-05-14      2011-05-13  ...    NaN  Car Classic      0\n",
              "1  ID_0046BNK        2010-11-29      2011-11-28  ...    NaN  Car Classic      1\n",
              "2  ID_005QMC3        2010-03-21      2011-03-20  ...    NaN  Car Classic      0\n",
              "3  ID_0079OHW        2010-08-21      2011-08-20  ...    NaN      CarSafe      0\n",
              "4  ID_00BRP63        2010-08-29      2010-12-31  ...  Lagos        Muuve      1\n",
              "\n",
              "[5 rows x 14 columns]"
            ]
          },
          "metadata": {
            "tags": []
          },
          "execution_count": 5
        }
      ]
    },
    {
      "cell_type": "code",
      "metadata": {
        "id": "_SGzCWbvKzU5",
        "colab": {
          "base_uri": "https://localhost:8080/",
          "height": 323
        },
        "outputId": "e41a85ef-5e98-4ac2-aa2e-c7403d13e45a"
      },
      "source": [
        "test.head()"
      ],
      "execution_count": null,
      "outputs": [
        {
          "output_type": "execute_result",
          "data": {
            "text/html": [
              "<div>\n",
              "<style scoped>\n",
              "    .dataframe tbody tr th:only-of-type {\n",
              "        vertical-align: middle;\n",
              "    }\n",
              "\n",
              "    .dataframe tbody tr th {\n",
              "        vertical-align: top;\n",
              "    }\n",
              "\n",
              "    .dataframe thead th {\n",
              "        text-align: right;\n",
              "    }\n",
              "</style>\n",
              "<table border=\"1\" class=\"dataframe\">\n",
              "  <thead>\n",
              "    <tr style=\"text-align: right;\">\n",
              "      <th></th>\n",
              "      <th>ID</th>\n",
              "      <th>Policy Start Date</th>\n",
              "      <th>Policy End Date</th>\n",
              "      <th>Gender</th>\n",
              "      <th>Age</th>\n",
              "      <th>First Transaction Date</th>\n",
              "      <th>No_Pol</th>\n",
              "      <th>Car_Category</th>\n",
              "      <th>Subject_Car_Colour</th>\n",
              "      <th>Subject_Car_Make</th>\n",
              "      <th>LGA_Name</th>\n",
              "      <th>State</th>\n",
              "      <th>ProductName</th>\n",
              "    </tr>\n",
              "  </thead>\n",
              "  <tbody>\n",
              "    <tr>\n",
              "      <th>0</th>\n",
              "      <td>ID_01QM0NU</td>\n",
              "      <td>2010-10-23</td>\n",
              "      <td>2011-10-22</td>\n",
              "      <td>Female</td>\n",
              "      <td>46</td>\n",
              "      <td>2010-10-23</td>\n",
              "      <td>1</td>\n",
              "      <td>NaN</td>\n",
              "      <td>NaN</td>\n",
              "      <td>Ford</td>\n",
              "      <td>Abuja Municipal</td>\n",
              "      <td>Abuja-Municipal</td>\n",
              "      <td>Car Classic</td>\n",
              "    </tr>\n",
              "    <tr>\n",
              "      <th>1</th>\n",
              "      <td>ID_024NJLZ</td>\n",
              "      <td>2010-10-14</td>\n",
              "      <td>2011-10-13</td>\n",
              "      <td>Male</td>\n",
              "      <td>32</td>\n",
              "      <td>2010-10-14</td>\n",
              "      <td>1</td>\n",
              "      <td>NaN</td>\n",
              "      <td>NaN</td>\n",
              "      <td>NaN</td>\n",
              "      <td>Kosofe</td>\n",
              "      <td>Benue</td>\n",
              "      <td>Car Classic</td>\n",
              "    </tr>\n",
              "    <tr>\n",
              "      <th>2</th>\n",
              "      <td>ID_02NOVWQ</td>\n",
              "      <td>2010-08-29</td>\n",
              "      <td>2011-08-28</td>\n",
              "      <td>Female</td>\n",
              "      <td>45</td>\n",
              "      <td>2010-08-29</td>\n",
              "      <td>2</td>\n",
              "      <td>Saloon</td>\n",
              "      <td>Black</td>\n",
              "      <td>Honda</td>\n",
              "      <td>Wuse 11</td>\n",
              "      <td>Abuja</td>\n",
              "      <td>Car Classic</td>\n",
              "    </tr>\n",
              "    <tr>\n",
              "      <th>3</th>\n",
              "      <td>ID_02VSP68</td>\n",
              "      <td>2010-06-13</td>\n",
              "      <td>2011-06-12</td>\n",
              "      <td>Female</td>\n",
              "      <td>58</td>\n",
              "      <td>2010-06-13</td>\n",
              "      <td>1</td>\n",
              "      <td>Saloon</td>\n",
              "      <td>NaN</td>\n",
              "      <td>TOYOTA</td>\n",
              "      <td>NaN</td>\n",
              "      <td>NaN</td>\n",
              "      <td>CarSafe</td>\n",
              "    </tr>\n",
              "    <tr>\n",
              "      <th>4</th>\n",
              "      <td>ID_02YB37K</td>\n",
              "      <td>2010-07-01</td>\n",
              "      <td>2011-06-30</td>\n",
              "      <td>NaN</td>\n",
              "      <td>120</td>\n",
              "      <td>2010-07-01</td>\n",
              "      <td>1</td>\n",
              "      <td>Saloon</td>\n",
              "      <td>Red</td>\n",
              "      <td>Hyundai</td>\n",
              "      <td>Victoria Island</td>\n",
              "      <td>Lagos</td>\n",
              "      <td>Car Classic</td>\n",
              "    </tr>\n",
              "  </tbody>\n",
              "</table>\n",
              "</div>"
            ],
            "text/plain": [
              "           ID Policy Start Date  ...            State  ProductName\n",
              "0  ID_01QM0NU        2010-10-23  ...  Abuja-Municipal  Car Classic\n",
              "1  ID_024NJLZ        2010-10-14  ...            Benue  Car Classic\n",
              "2  ID_02NOVWQ        2010-08-29  ...            Abuja  Car Classic\n",
              "3  ID_02VSP68        2010-06-13  ...              NaN      CarSafe\n",
              "4  ID_02YB37K        2010-07-01  ...            Lagos  Car Classic\n",
              "\n",
              "[5 rows x 13 columns]"
            ]
          },
          "metadata": {
            "tags": []
          },
          "execution_count": 6
        }
      ]
    },
    {
      "cell_type": "code",
      "metadata": {
        "id": "jOa7p2ilKzU9",
        "colab": {
          "base_uri": "https://localhost:8080/",
          "height": 204
        },
        "outputId": "e370b888-8c8c-421f-82e3-5c65664935dc"
      },
      "source": [
        "ss.head()"
      ],
      "execution_count": null,
      "outputs": [
        {
          "output_type": "execute_result",
          "data": {
            "text/html": [
              "<div>\n",
              "<style scoped>\n",
              "    .dataframe tbody tr th:only-of-type {\n",
              "        vertical-align: middle;\n",
              "    }\n",
              "\n",
              "    .dataframe tbody tr th {\n",
              "        vertical-align: top;\n",
              "    }\n",
              "\n",
              "    .dataframe thead th {\n",
              "        text-align: right;\n",
              "    }\n",
              "</style>\n",
              "<table border=\"1\" class=\"dataframe\">\n",
              "  <thead>\n",
              "    <tr style=\"text-align: right;\">\n",
              "      <th></th>\n",
              "      <th>ID</th>\n",
              "      <th>target</th>\n",
              "    </tr>\n",
              "  </thead>\n",
              "  <tbody>\n",
              "    <tr>\n",
              "      <th>0</th>\n",
              "      <td>ID_01QM0NU</td>\n",
              "      <td>0</td>\n",
              "    </tr>\n",
              "    <tr>\n",
              "      <th>1</th>\n",
              "      <td>ID_024NJLZ</td>\n",
              "      <td>0</td>\n",
              "    </tr>\n",
              "    <tr>\n",
              "      <th>2</th>\n",
              "      <td>ID_02NOVWQ</td>\n",
              "      <td>0</td>\n",
              "    </tr>\n",
              "    <tr>\n",
              "      <th>3</th>\n",
              "      <td>ID_02VSP68</td>\n",
              "      <td>0</td>\n",
              "    </tr>\n",
              "    <tr>\n",
              "      <th>4</th>\n",
              "      <td>ID_02YB37K</td>\n",
              "      <td>0</td>\n",
              "    </tr>\n",
              "  </tbody>\n",
              "</table>\n",
              "</div>"
            ],
            "text/plain": [
              "           ID  target\n",
              "0  ID_01QM0NU       0\n",
              "1  ID_024NJLZ       0\n",
              "2  ID_02NOVWQ       0\n",
              "3  ID_02VSP68       0\n",
              "4  ID_02YB37K       0"
            ]
          },
          "metadata": {
            "tags": []
          },
          "execution_count": 7
        }
      ]
    },
    {
      "cell_type": "code",
      "metadata": {
        "colab": {
          "base_uri": "https://localhost:8080/",
          "height": 204
        },
        "id": "37BVvADIsUE_",
        "outputId": "94133069-0437-4b15-8c89-5f8399cd16cf"
      },
      "source": [
        "ns.head()"
      ],
      "execution_count": null,
      "outputs": [
        {
          "output_type": "execute_result",
          "data": {
            "text/html": [
              "<div>\n",
              "<style scoped>\n",
              "    .dataframe tbody tr th:only-of-type {\n",
              "        vertical-align: middle;\n",
              "    }\n",
              "\n",
              "    .dataframe tbody tr th {\n",
              "        vertical-align: top;\n",
              "    }\n",
              "\n",
              "    .dataframe thead th {\n",
              "        text-align: right;\n",
              "    }\n",
              "</style>\n",
              "<table border=\"1\" class=\"dataframe\">\n",
              "  <thead>\n",
              "    <tr style=\"text-align: right;\">\n",
              "      <th></th>\n",
              "      <th>LGA</th>\n",
              "      <th>State</th>\n",
              "    </tr>\n",
              "  </thead>\n",
              "  <tbody>\n",
              "    <tr>\n",
              "      <th>0</th>\n",
              "      <td>Abadam</td>\n",
              "      <td>Borno State</td>\n",
              "    </tr>\n",
              "    <tr>\n",
              "      <th>1</th>\n",
              "      <td>Abaji</td>\n",
              "      <td>Federal Capital Territory</td>\n",
              "    </tr>\n",
              "    <tr>\n",
              "      <th>2</th>\n",
              "      <td>Abak</td>\n",
              "      <td>Akwa Ibom State</td>\n",
              "    </tr>\n",
              "    <tr>\n",
              "      <th>3</th>\n",
              "      <td>Abakaliki</td>\n",
              "      <td>Ebonyi State</td>\n",
              "    </tr>\n",
              "    <tr>\n",
              "      <th>4</th>\n",
              "      <td>Aba-North</td>\n",
              "      <td>Abia State</td>\n",
              "    </tr>\n",
              "  </tbody>\n",
              "</table>\n",
              "</div>"
            ],
            "text/plain": [
              "         LGA                      State\n",
              "0     Abadam                Borno State\n",
              "1      Abaji  Federal Capital Territory\n",
              "2       Abak            Akwa Ibom State\n",
              "3  Abakaliki               Ebonyi State\n",
              "4  Aba-North                 Abia State"
            ]
          },
          "metadata": {
            "tags": []
          },
          "execution_count": 8
        }
      ]
    },
    {
      "cell_type": "code",
      "metadata": {
        "id": "w45W756CKzVE",
        "colab": {
          "base_uri": "https://localhost:8080/"
        },
        "outputId": "ecf365a4-798b-4be3-90cf-04bf09afca44"
      },
      "source": [
        "print('Train shape:',train.shape,'\\nTest shape:', test.shape, '\\nsamplesubmission shape:',ss.shape,'\\nNigerianStateNames shape:',ns.shape)"
      ],
      "execution_count": null,
      "outputs": [
        {
          "output_type": "stream",
          "text": [
            "Train shape: (12079, 14) \n",
            "Test shape: (1202, 13) \n",
            "samplesubmission shape: (1202, 2) \n",
            "NigerianStateNames shape: (875, 2)\n"
          ],
          "name": "stdout"
        }
      ]
    },
    {
      "cell_type": "code",
      "metadata": {
        "id": "ssA4l4ddKzVG",
        "colab": {
          "base_uri": "https://localhost:8080/"
        },
        "outputId": "5bc8346f-29cc-436c-aa63-5f366a5d9fee"
      },
      "source": [
        "train.info()"
      ],
      "execution_count": null,
      "outputs": [
        {
          "output_type": "stream",
          "text": [
            "<class 'pandas.core.frame.DataFrame'>\n",
            "RangeIndex: 12079 entries, 0 to 12078\n",
            "Data columns (total 14 columns):\n",
            " #   Column                  Non-Null Count  Dtype \n",
            "---  ------                  --------------  ----- \n",
            " 0   ID                      12079 non-null  object\n",
            " 1   Policy Start Date       12079 non-null  object\n",
            " 2   Policy End Date         12079 non-null  object\n",
            " 3   Gender                  11720 non-null  object\n",
            " 4   Age                     12079 non-null  int64 \n",
            " 5   First Transaction Date  12079 non-null  object\n",
            " 6   No_Pol                  12079 non-null  int64 \n",
            " 7   Car_Category            8341 non-null   object\n",
            " 8   Subject_Car_Colour      5117 non-null   object\n",
            " 9   Subject_Car_Make        9603 non-null   object\n",
            " 10  LGA_Name                5603 non-null   object\n",
            " 11  State                   5591 non-null   object\n",
            " 12  ProductName             12079 non-null  object\n",
            " 13  target                  12079 non-null  int64 \n",
            "dtypes: int64(3), object(11)\n",
            "memory usage: 1.3+ MB\n"
          ],
          "name": "stdout"
        }
      ]
    },
    {
      "cell_type": "code",
      "metadata": {
        "id": "6m1OVJMKKzVH",
        "colab": {
          "base_uri": "https://localhost:8080/"
        },
        "outputId": "2ffb7557-d38f-43a2-a547-c0a790e17804"
      },
      "source": [
        "test.info()"
      ],
      "execution_count": null,
      "outputs": [
        {
          "output_type": "stream",
          "text": [
            "<class 'pandas.core.frame.DataFrame'>\n",
            "RangeIndex: 1202 entries, 0 to 1201\n",
            "Data columns (total 13 columns):\n",
            " #   Column                  Non-Null Count  Dtype \n",
            "---  ------                  --------------  ----- \n",
            " 0   ID                      1202 non-null   object\n",
            " 1   Policy Start Date       1202 non-null   object\n",
            " 2   Policy End Date         1202 non-null   object\n",
            " 3   Gender                  1161 non-null   object\n",
            " 4   Age                     1202 non-null   int64 \n",
            " 5   First Transaction Date  1202 non-null   object\n",
            " 6   No_Pol                  1202 non-null   int64 \n",
            " 7   Car_Category            830 non-null    object\n",
            " 8   Subject_Car_Colour      505 non-null    object\n",
            " 9   Subject_Car_Make        954 non-null    object\n",
            " 10  LGA_Name                546 non-null    object\n",
            " 11  State                   546 non-null    object\n",
            " 12  ProductName             1202 non-null   object\n",
            "dtypes: int64(2), object(11)\n",
            "memory usage: 122.2+ KB\n"
          ],
          "name": "stdout"
        }
      ]
    },
    {
      "cell_type": "code",
      "metadata": {
        "id": "j5NKnrf2KzVg",
        "colab": {
          "base_uri": "https://localhost:8080/"
        },
        "outputId": "698e5e50-02b9-4f70-8047-c02d07ccf4a1"
      },
      "source": [
        "# join train and test together\n",
        "ntrain = train.shape[0]\n",
        "ntest = test.shape[0]\n",
        "\n",
        "all_data = pd.concat((train, test)).reset_index(drop=True)\n",
        "print(\"all_data size is : {}\".format(all_data.shape))"
      ],
      "execution_count": null,
      "outputs": [
        {
          "output_type": "stream",
          "text": [
            "all_data size is : (13281, 14)\n"
          ],
          "name": "stdout"
        }
      ]
    },
    {
      "cell_type": "code",
      "metadata": {
        "id": "Iag-HAlQKzVl",
        "colab": {
          "base_uri": "https://localhost:8080/",
          "height": 323
        },
        "outputId": "05296f28-b27a-4400-af71-6f04ab4269d3"
      },
      "source": [
        "all_data.tail()"
      ],
      "execution_count": null,
      "outputs": [
        {
          "output_type": "execute_result",
          "data": {
            "text/html": [
              "<div>\n",
              "<style scoped>\n",
              "    .dataframe tbody tr th:only-of-type {\n",
              "        vertical-align: middle;\n",
              "    }\n",
              "\n",
              "    .dataframe tbody tr th {\n",
              "        vertical-align: top;\n",
              "    }\n",
              "\n",
              "    .dataframe thead th {\n",
              "        text-align: right;\n",
              "    }\n",
              "</style>\n",
              "<table border=\"1\" class=\"dataframe\">\n",
              "  <thead>\n",
              "    <tr style=\"text-align: right;\">\n",
              "      <th></th>\n",
              "      <th>ID</th>\n",
              "      <th>Policy Start Date</th>\n",
              "      <th>Policy End Date</th>\n",
              "      <th>Gender</th>\n",
              "      <th>Age</th>\n",
              "      <th>First Transaction Date</th>\n",
              "      <th>No_Pol</th>\n",
              "      <th>Car_Category</th>\n",
              "      <th>Subject_Car_Colour</th>\n",
              "      <th>Subject_Car_Make</th>\n",
              "      <th>LGA_Name</th>\n",
              "      <th>State</th>\n",
              "      <th>ProductName</th>\n",
              "      <th>target</th>\n",
              "    </tr>\n",
              "  </thead>\n",
              "  <tbody>\n",
              "    <tr>\n",
              "      <th>13276</th>\n",
              "      <td>ID_ZTTHC5X</td>\n",
              "      <td>2010-12-05</td>\n",
              "      <td>2011-12-04</td>\n",
              "      <td>Male</td>\n",
              "      <td>67</td>\n",
              "      <td>2010-12-05</td>\n",
              "      <td>2</td>\n",
              "      <td>JEEP</td>\n",
              "      <td>Black</td>\n",
              "      <td>TOYOTA</td>\n",
              "      <td>Victoria Island</td>\n",
              "      <td>Lagos</td>\n",
              "      <td>Car Classic</td>\n",
              "      <td>NaN</td>\n",
              "    </tr>\n",
              "    <tr>\n",
              "      <th>13277</th>\n",
              "      <td>ID_ZUJAFUP</td>\n",
              "      <td>2010-01-14</td>\n",
              "      <td>2011-01-13</td>\n",
              "      <td>Male</td>\n",
              "      <td>43</td>\n",
              "      <td>2010-01-14</td>\n",
              "      <td>1</td>\n",
              "      <td>Saloon</td>\n",
              "      <td>Silver</td>\n",
              "      <td>Hyundai</td>\n",
              "      <td>Surulere</td>\n",
              "      <td>Lagos</td>\n",
              "      <td>Car Classic</td>\n",
              "      <td>NaN</td>\n",
              "    </tr>\n",
              "    <tr>\n",
              "      <th>13278</th>\n",
              "      <td>ID_ZWHCTUM</td>\n",
              "      <td>2010-07-26</td>\n",
              "      <td>2011-07-25</td>\n",
              "      <td>Male</td>\n",
              "      <td>30</td>\n",
              "      <td>2010-07-26</td>\n",
              "      <td>1</td>\n",
              "      <td>Truck</td>\n",
              "      <td>White</td>\n",
              "      <td>Iveco</td>\n",
              "      <td>Victoria Island</td>\n",
              "      <td>Lagos</td>\n",
              "      <td>CVTP</td>\n",
              "      <td>NaN</td>\n",
              "    </tr>\n",
              "    <tr>\n",
              "      <th>13279</th>\n",
              "      <td>ID_ZWQRL8L</td>\n",
              "      <td>2010-02-16</td>\n",
              "      <td>2011-02-15</td>\n",
              "      <td>Male</td>\n",
              "      <td>44</td>\n",
              "      <td>2010-02-16</td>\n",
              "      <td>2</td>\n",
              "      <td>Saloon</td>\n",
              "      <td>NaN</td>\n",
              "      <td>Nissan</td>\n",
              "      <td>Aba North</td>\n",
              "      <td>Aba-North</td>\n",
              "      <td>Car Classic</td>\n",
              "      <td>NaN</td>\n",
              "    </tr>\n",
              "    <tr>\n",
              "      <th>13280</th>\n",
              "      <td>ID_ZWZ92GU</td>\n",
              "      <td>2010-03-18</td>\n",
              "      <td>2011-03-17</td>\n",
              "      <td>Male</td>\n",
              "      <td>28</td>\n",
              "      <td>2010-03-18</td>\n",
              "      <td>1</td>\n",
              "      <td>Saloon</td>\n",
              "      <td>Silver</td>\n",
              "      <td>TOYOTA</td>\n",
              "      <td>NaN</td>\n",
              "      <td>NaN</td>\n",
              "      <td>Car Classic</td>\n",
              "      <td>NaN</td>\n",
              "    </tr>\n",
              "  </tbody>\n",
              "</table>\n",
              "</div>"
            ],
            "text/plain": [
              "               ID Policy Start Date  ...  ProductName target\n",
              "13276  ID_ZTTHC5X        2010-12-05  ...  Car Classic    NaN\n",
              "13277  ID_ZUJAFUP        2010-01-14  ...  Car Classic    NaN\n",
              "13278  ID_ZWHCTUM        2010-07-26  ...         CVTP    NaN\n",
              "13279  ID_ZWQRL8L        2010-02-16  ...  Car Classic    NaN\n",
              "13280  ID_ZWZ92GU        2010-03-18  ...  Car Classic    NaN\n",
              "\n",
              "[5 rows x 14 columns]"
            ]
          },
          "metadata": {
            "tags": []
          },
          "execution_count": 13
        }
      ]
    },
    {
      "cell_type": "code",
      "metadata": {
        "id": "xe_zwu44KzVp",
        "colab": {
          "base_uri": "https://localhost:8080/"
        },
        "outputId": "7f041f41-b967-4f71-a240-f749c1570e0f"
      },
      "source": [
        "date_col = ['Policy Start Date','Policy End Date','First Transaction Date']\n",
        "num_col = ['Age']\n",
        "cat_col = [col for col in test.columns if col not in date_col+num_col]\n",
        "cat_col"
      ],
      "execution_count": null,
      "outputs": [
        {
          "output_type": "execute_result",
          "data": {
            "text/plain": [
              "['ID',\n",
              " 'Gender',\n",
              " 'No_Pol',\n",
              " 'Car_Category',\n",
              " 'Subject_Car_Colour',\n",
              " 'Subject_Car_Make',\n",
              " 'LGA_Name',\n",
              " 'State',\n",
              " 'ProductName']"
            ]
          },
          "metadata": {
            "tags": []
          },
          "execution_count": 14
        }
      ]
    },
    {
      "cell_type": "code",
      "metadata": {
        "id": "y7u4cXpeKzVw"
      },
      "source": [
        "cat_col.remove('ID')"
      ],
      "execution_count": null,
      "outputs": []
    },
    {
      "cell_type": "code",
      "metadata": {
        "id": "POvT-OqZKzVx",
        "colab": {
          "base_uri": "https://localhost:8080/",
          "height": 297
        },
        "outputId": "e388ed8f-97f0-4363-cc7d-377747360391"
      },
      "source": [
        "train.describe()"
      ],
      "execution_count": null,
      "outputs": [
        {
          "output_type": "execute_result",
          "data": {
            "text/html": [
              "<div>\n",
              "<style scoped>\n",
              "    .dataframe tbody tr th:only-of-type {\n",
              "        vertical-align: middle;\n",
              "    }\n",
              "\n",
              "    .dataframe tbody tr th {\n",
              "        vertical-align: top;\n",
              "    }\n",
              "\n",
              "    .dataframe thead th {\n",
              "        text-align: right;\n",
              "    }\n",
              "</style>\n",
              "<table border=\"1\" class=\"dataframe\">\n",
              "  <thead>\n",
              "    <tr style=\"text-align: right;\">\n",
              "      <th></th>\n",
              "      <th>Age</th>\n",
              "      <th>No_Pol</th>\n",
              "      <th>target</th>\n",
              "    </tr>\n",
              "  </thead>\n",
              "  <tbody>\n",
              "    <tr>\n",
              "      <th>count</th>\n",
              "      <td>12079.000000</td>\n",
              "      <td>12079.000000</td>\n",
              "      <td>12079.000000</td>\n",
              "    </tr>\n",
              "    <tr>\n",
              "      <th>mean</th>\n",
              "      <td>42.234539</td>\n",
              "      <td>1.307227</td>\n",
              "      <td>0.120457</td>\n",
              "    </tr>\n",
              "    <tr>\n",
              "      <th>std</th>\n",
              "      <td>97.492565</td>\n",
              "      <td>0.733085</td>\n",
              "      <td>0.325509</td>\n",
              "    </tr>\n",
              "    <tr>\n",
              "      <th>min</th>\n",
              "      <td>-6099.000000</td>\n",
              "      <td>1.000000</td>\n",
              "      <td>0.000000</td>\n",
              "    </tr>\n",
              "    <tr>\n",
              "      <th>25%</th>\n",
              "      <td>35.000000</td>\n",
              "      <td>1.000000</td>\n",
              "      <td>0.000000</td>\n",
              "    </tr>\n",
              "    <tr>\n",
              "      <th>50%</th>\n",
              "      <td>41.000000</td>\n",
              "      <td>1.000000</td>\n",
              "      <td>0.000000</td>\n",
              "    </tr>\n",
              "    <tr>\n",
              "      <th>75%</th>\n",
              "      <td>50.000000</td>\n",
              "      <td>1.000000</td>\n",
              "      <td>0.000000</td>\n",
              "    </tr>\n",
              "    <tr>\n",
              "      <th>max</th>\n",
              "      <td>320.000000</td>\n",
              "      <td>10.000000</td>\n",
              "      <td>1.000000</td>\n",
              "    </tr>\n",
              "  </tbody>\n",
              "</table>\n",
              "</div>"
            ],
            "text/plain": [
              "                Age        No_Pol        target\n",
              "count  12079.000000  12079.000000  12079.000000\n",
              "mean      42.234539      1.307227      0.120457\n",
              "std       97.492565      0.733085      0.325509\n",
              "min    -6099.000000      1.000000      0.000000\n",
              "25%       35.000000      1.000000      0.000000\n",
              "50%       41.000000      1.000000      0.000000\n",
              "75%       50.000000      1.000000      0.000000\n",
              "max      320.000000     10.000000      1.000000"
            ]
          },
          "metadata": {
            "tags": []
          },
          "execution_count": 16
        }
      ]
    },
    {
      "cell_type": "code",
      "metadata": {
        "id": "MkOMlJiaKzVy",
        "colab": {
          "base_uri": "https://localhost:8080/",
          "height": 297
        },
        "outputId": "9171e13a-73be-4175-9a7e-51ae09f45b88"
      },
      "source": [
        "test.describe()"
      ],
      "execution_count": null,
      "outputs": [
        {
          "output_type": "execute_result",
          "data": {
            "text/html": [
              "<div>\n",
              "<style scoped>\n",
              "    .dataframe tbody tr th:only-of-type {\n",
              "        vertical-align: middle;\n",
              "    }\n",
              "\n",
              "    .dataframe tbody tr th {\n",
              "        vertical-align: top;\n",
              "    }\n",
              "\n",
              "    .dataframe thead th {\n",
              "        text-align: right;\n",
              "    }\n",
              "</style>\n",
              "<table border=\"1\" class=\"dataframe\">\n",
              "  <thead>\n",
              "    <tr style=\"text-align: right;\">\n",
              "      <th></th>\n",
              "      <th>Age</th>\n",
              "      <th>No_Pol</th>\n",
              "    </tr>\n",
              "  </thead>\n",
              "  <tbody>\n",
              "    <tr>\n",
              "      <th>count</th>\n",
              "      <td>1202.000000</td>\n",
              "      <td>1202.000000</td>\n",
              "    </tr>\n",
              "    <tr>\n",
              "      <th>mean</th>\n",
              "      <td>43.792845</td>\n",
              "      <td>1.257903</td>\n",
              "    </tr>\n",
              "    <tr>\n",
              "      <th>std</th>\n",
              "      <td>19.986245</td>\n",
              "      <td>0.613510</td>\n",
              "    </tr>\n",
              "    <tr>\n",
              "      <th>min</th>\n",
              "      <td>-26.000000</td>\n",
              "      <td>1.000000</td>\n",
              "    </tr>\n",
              "    <tr>\n",
              "      <th>25%</th>\n",
              "      <td>35.000000</td>\n",
              "      <td>1.000000</td>\n",
              "    </tr>\n",
              "    <tr>\n",
              "      <th>50%</th>\n",
              "      <td>41.000000</td>\n",
              "      <td>1.000000</td>\n",
              "    </tr>\n",
              "    <tr>\n",
              "      <th>75%</th>\n",
              "      <td>50.000000</td>\n",
              "      <td>1.000000</td>\n",
              "    </tr>\n",
              "    <tr>\n",
              "      <th>max</th>\n",
              "      <td>120.000000</td>\n",
              "      <td>7.000000</td>\n",
              "    </tr>\n",
              "  </tbody>\n",
              "</table>\n",
              "</div>"
            ],
            "text/plain": [
              "               Age       No_Pol\n",
              "count  1202.000000  1202.000000\n",
              "mean     43.792845     1.257903\n",
              "std      19.986245     0.613510\n",
              "min     -26.000000     1.000000\n",
              "25%      35.000000     1.000000\n",
              "50%      41.000000     1.000000\n",
              "75%      50.000000     1.000000\n",
              "max     120.000000     7.000000"
            ]
          },
          "metadata": {
            "tags": []
          },
          "execution_count": 17
        }
      ]
    },
    {
      "cell_type": "code",
      "metadata": {
        "id": "gy1_u2FzKzV-",
        "colab": {
          "base_uri": "https://localhost:8080/",
          "height": 296
        },
        "outputId": "c99c47d0-4894-41aa-dee1-efe193130dcd"
      },
      "source": [
        "sns.countplot(train.target)"
      ],
      "execution_count": null,
      "outputs": [
        {
          "output_type": "execute_result",
          "data": {
            "text/plain": [
              "<matplotlib.axes._subplots.AxesSubplot at 0x7fb4bb356ed0>"
            ]
          },
          "metadata": {
            "tags": []
          },
          "execution_count": 18
        },
        {
          "output_type": "display_data",
          "data": {
            "image/png": "[encoded data removed]",
            "text/plain": [
              "<Figure size 432x288 with 1 Axes>"
            ]
          },
          "metadata": {
            "tags": [],
            "needs_background": "light"
          }
        }
      ]
    },
    {
      "cell_type": "markdown",
      "metadata": {
        "id": "juvPaeTQ9aLV"
      },
      "source": [
        "The above plot reveals that we have an imbalanced dataset. This has to be catered for in the course of training the model."
      ]
    },
    {
      "cell_type": "markdown",
      "metadata": {
        "id": "LImz-CNS9oS8"
      },
      "source": [
        "#### Checking for missing values in the dataset"
      ]
    },
    {
      "cell_type": "code",
      "metadata": {
        "id": "RQt4zEqCKzWA",
        "colab": {
          "base_uri": "https://localhost:8080/"
        },
        "outputId": "ff3245f6-b7bc-44c1-e1ba-e0d94a48fe44"
      },
      "source": [
        "# check for missing values in the train set\n",
        "print(\"Are There Missing value in train? :\",train.isnull().any().any())\n",
        "print((train.isnull().sum()/train.shape[0])*100)"
      ],
      "execution_count": null,
      "outputs": [
        {
          "output_type": "stream",
          "text": [
            "Are There Missing value in train? : True\n",
            "ID                         0.000000\n",
            "Policy Start Date          0.000000\n",
            "Policy End Date            0.000000\n",
            "Gender                     2.972100\n",
            "Age                        0.000000\n",
            "First Transaction Date     0.000000\n",
            "No_Pol                     0.000000\n",
            "Car_Category              30.946270\n",
            "Subject_Car_Colour        57.637222\n",
            "Subject_Car_Make          20.498386\n",
            "LGA_Name                  53.613710\n",
            "State                     53.713056\n",
            "ProductName                0.000000\n",
            "target                     0.000000\n",
            "dtype: float64\n"
          ],
          "name": "stdout"
        }
      ]
    },
    {
      "cell_type": "code",
      "metadata": {
        "id": "uLDQgjlbKzWB",
        "colab": {
          "base_uri": "https://localhost:8080/"
        },
        "outputId": "a933d558-6b06-4cfe-a4bc-255ff74c31fd"
      },
      "source": [
        "# check for missing values in the test set\n",
        "print(\"Are There Missing value in test? :\",test.isnull().any().any())\n",
        "print((test.isnull().sum()/test.shape[0])*100)"
      ],
      "execution_count": null,
      "outputs": [
        {
          "output_type": "stream",
          "text": [
            "Are There Missing value in test? : True\n",
            "ID                         0.000000\n",
            "Policy Start Date          0.000000\n",
            "Policy End Date            0.000000\n",
            "Gender                     3.410982\n",
            "Age                        0.000000\n",
            "First Transaction Date     0.000000\n",
            "No_Pol                     0.000000\n",
            "Car_Category              30.948419\n",
            "Subject_Car_Colour        57.986689\n",
            "Subject_Car_Make          20.632280\n",
            "LGA_Name                  54.575707\n",
            "State                     54.575707\n",
            "ProductName                0.000000\n",
            "dtype: float64\n"
          ],
          "name": "stdout"
        }
      ]
    },
    {
      "cell_type": "markdown",
      "metadata": {
        "id": "W2qRAIhe-JUS"
      },
      "source": [
        "#### Some visual plot showing relationship between features"
      ]
    },
    {
      "cell_type": "code",
      "metadata": {
        "id": "CJjzb_uSKzWD",
        "colab": {
          "base_uri": "https://localhost:8080/",
          "height": 488
        },
        "outputId": "139c951e-2106-49d0-9ae5-e49404ec6256"
      },
      "source": [
        "f,ax=plt.subplots(figsize=(8,8))\n",
        "sns.heatmap(train.corr(),annot=True,linewidth=.5,fmt='.1f',ax=ax)\n",
        "plt.show()"
      ],
      "execution_count": null,
      "outputs": [
        {
          "output_type": "display_data",
          "data": {
            "image/png": "[encoded data removed]",
            "text/plain": [
              "<Figure size 576x576 with 2 Axes>"
            ]
          },
          "metadata": {
            "tags": [],
            "needs_background": "light"
          }
        }
      ]
    },
    {
      "cell_type": "code",
      "metadata": {
        "id": "BbsqzIFVKzWF"
      },
      "source": [
        "# checking relationship of  categorical features and numerical features\n",
        "def check_categorical_relationship(cat_col,y_col,df):\n",
        "    for feat in cat_col:\n",
        "        plt.figure(figsize=(20,5))\n",
        "        sns.barplot(df[feat],df[y_col])\n",
        "        plt.show()\n",
        "        print(\"\\n \\n \\n \")"
      ],
      "execution_count": null,
      "outputs": []
    },
    {
      "cell_type": "code",
      "metadata": {
        "scrolled": true,
        "id": "XjfupIDEKzW0",
        "colab": {
          "base_uri": "https://localhost:8080/",
          "height": 1000
        },
        "outputId": "be1680a2-d17e-4d0b-e300-9d9a8044d8d5"
      },
      "source": [
        "check_categorical_relationship(cat_col,'Age',all_data)"
      ],
      "execution_count": null,
      "outputs": [
        {
          "output_type": "display_data",
          "data": {
            "image/png": "[encoded data removed]",
            "text/plain": [
              "<Figure size 1440x360 with 1 Axes>"
            ]
          },
          "metadata": {
            "tags": [],
            "needs_background": "light"
          }
        },
        {
          "output_type": "stream",
          "text": [
            "\n",
            " \n",
            " \n",
            " \n"
          ],
          "name": "stdout"
        },
        {
          "output_type": "display_data",
          "data": {
            "image/png": "[encoded data removed]",
            "text/plain": [
              "<Figure size 1440x360 with 1 Axes>"
            ]
          },
          "metadata": {
            "tags": [],
            "needs_background": "light"
          }
        },
        {
          "output_type": "stream",
          "text": [
            "\n",
            " \n",
            " \n",
            " \n"
          ],
          "name": "stdout"
        },
        {
          "output_type": "display_data",
          "data": {
            "image/png": "[encoded data removed]",
            "text/plain": [
              "<Figure size 1440x360 with 1 Axes>"
            ]
          },
          "metadata": {
            "tags": [],
            "needs_background": "light"
          }
        },
        {
          "output_type": "stream",
          "text": [
            "\n",
            " \n",
            " \n",
            " \n"
          ],
          "name": "stdout"
        },
        {
          "output_type": "display_data",
          "data": {
            "image/png": "[encoded data removed]",
            "text/plain": [
              "<Figure size 1440x360 with 1 Axes>"
            ]
          },
          "metadata": {
            "tags": [],
            "needs_background": "light"
          }
        },
        {
          "output_type": "stream",
          "text": [
            "\n",
            " \n",
            " \n",
            " \n"
          ],
          "name": "stdout"
        },
        {
          "output_type": "display_data",
          "data": {
            "image/png": "[encoded data removed]",
            "text/plain": [
              "<Figure size 1440x360 with 1 Axes>"
            ]
          },
          "metadata": {
            "tags": [],
            "needs_background": "light"
          }
        },
        {
          "output_type": "stream",
          "text": [
            "\n",
            " \n",
            " \n",
            " \n"
          ],
          "name": "stdout"
        },
        {
          "output_type": "display_data",
          "data": {
            "image/png": "[encoded data removed]",
            "text/plain": [
              "<Figure size 1440x360 with 1 Axes>"
            ]
          },
          "metadata": {
            "tags": [],
            "needs_background": "light"
          }
        },
        {
          "output_type": "stream",
          "text": [
            "\n",
            " \n",
            " \n",
            " \n"
          ],
          "name": "stdout"
        },
        {
          "output_type": "display_data",
          "data": {
            "image/png": "[encoded data removed]",
            "text/plain": [
              "<Figure size 1440x360 with 1 Axes>"
            ]
          },
          "metadata": {
            "tags": [],
            "needs_background": "light"
          }
        },
        {
          "output_type": "stream",
          "text": [
            "\n",
            " \n",
            " \n",
            " \n"
          ],
          "name": "stdout"
        },
        {
          "output_type": "display_data",
          "data": {
            "image/png": "[encoded data removed]",
            "text/plain": [
              "<Figure size 1440x360 with 1 Axes>"
            ]
          },
          "metadata": {
            "tags": [],
            "needs_background": "light"
          }
        },
        {
          "output_type": "stream",
          "text": [
            "\n",
            " \n",
            " \n",
            " \n"
          ],
          "name": "stdout"
        }
      ]
    },
    {
      "cell_type": "code",
      "metadata": {
        "scrolled": true,
        "id": "mhLH02LSKzW1",
        "colab": {
          "base_uri": "https://localhost:8080/",
          "height": 1000
        },
        "outputId": "c2774584-9c0c-416c-a126-482664c794a2"
      },
      "source": [
        "check_categorical_relationship(cat_col,'No_Pol',all_data)"
      ],
      "execution_count": null,
      "outputs": [
        {
          "output_type": "display_data",
          "data": {
            "image/png": "[encoded data removed]",
            "text/plain": [
              "<Figure size 1440x360 with 1 Axes>"
            ]
          },
          "metadata": {
            "tags": [],
            "needs_background": "light"
          }
        },
        {
          "output_type": "stream",
          "text": [
            "\n",
            " \n",
            " \n",
            " \n"
          ],
          "name": "stdout"
        },
        {
          "output_type": "display_data",
          "data": {
            "image/png": "[encoded data removed]",
            "text/plain": [
              "<Figure size 1440x360 with 1 Axes>"
            ]
          },
          "metadata": {
            "tags": [],
            "needs_background": "light"
          }
        },
        {
          "output_type": "stream",
          "text": [
            "\n",
            " \n",
            " \n",
            " \n"
          ],
          "name": "stdout"
        },
        {
          "output_type": "display_data",
          "data": {
            "image/png": "[encoded data removed]",
            "text/plain": [
              "<Figure size 1440x360 with 1 Axes>"
            ]
          },
          "metadata": {
            "tags": [],
            "needs_background": "light"
          }
        },
        {
          "output_type": "stream",
          "text": [
            "\n",
            " \n",
            " \n",
            " \n"
          ],
          "name": "stdout"
        },
        {
          "output_type": "display_data",
          "data": {
            "image/png": "[encoded data removed]",
            "text/plain": [
              "<Figure size 1440x360 with 1 Axes>"
            ]
          },
          "metadata": {
            "tags": [],
            "needs_background": "light"
          }
        },
        {
          "output_type": "stream",
          "text": [
            "\n",
            " \n",
            " \n",
            " \n"
          ],
          "name": "stdout"
        },
        {
          "output_type": "display_data",
          "data": {
            "image/png": "[encoded data removed]",
            "text/plain": [
              "<Figure size 1440x360 with 1 Axes>"
            ]
          },
          "metadata": {
            "tags": [],
            "needs_background": "light"
          }
        },
        {
          "output_type": "stream",
          "text": [
            "\n",
            " \n",
            " \n",
            " \n"
          ],
          "name": "stdout"
        },
        {
          "output_type": "display_data",
          "data": {
            "image/png": "[encoded data removed]",
            "text/plain": [
              "<Figure size 1440x360 with 1 Axes>"
            ]
          },
          "metadata": {
            "tags": [],
            "needs_background": "light"
          }
        },
        {
          "output_type": "stream",
          "text": [
            "\n",
            " \n",
            " \n",
            " \n"
          ],
          "name": "stdout"
        },
        {
          "output_type": "display_data",
          "data": {
            "image/png": "[encoded data removed]",
            "text/plain": [
              "<Figure size 1440x360 with 1 Axes>"
            ]
          },
          "metadata": {
            "tags": [],
            "needs_background": "light"
          }
        },
        {
          "output_type": "stream",
          "text": [
            "\n",
            " \n",
            " \n",
            " \n"
          ],
          "name": "stdout"
        },
        {
          "output_type": "display_data",
          "data": {
            "image/png": "[encoded data removed]",
            "text/plain": [
              "<Figure size 1440x360 with 1 Axes>"
            ]
          },
          "metadata": {
            "tags": [],
            "needs_background": "light"
          }
        },
        {
          "output_type": "stream",
          "text": [
            "\n",
            " \n",
            " \n",
            " \n"
          ],
          "name": "stdout"
        }
      ]
    },
    {
      "cell_type": "code",
      "metadata": {
        "id": "pTy7lSuOKzW3",
        "colab": {
          "base_uri": "https://localhost:8080/",
          "height": 296
        },
        "outputId": "614cb8b7-b307-499a-a097-3ddffefc7247"
      },
      "source": [
        "# Gender distribution \n",
        "sns.countplot(all_data.Gender)"
      ],
      "execution_count": null,
      "outputs": [
        {
          "output_type": "execute_result",
          "data": {
            "text/plain": [
              "<matplotlib.axes._subplots.AxesSubplot at 0x7fb4b17e5d10>"
            ]
          },
          "metadata": {
            "tags": []
          },
          "execution_count": 25
        },
        {
          "output_type": "display_data",
          "data": {
            "image/png": "[encoded data removed]",
            "text/plain": [
              "<Figure size 432x288 with 1 Axes>"
            ]
          },
          "metadata": {
            "tags": [],
            "needs_background": "light"
          }
        }
      ]
    },
    {
      "cell_type": "code",
      "metadata": {
        "id": "t0SGzmIVKzW4",
        "colab": {
          "base_uri": "https://localhost:8080/"
        },
        "outputId": "74566db6-366d-4cb3-f8e5-d705d8030c4c"
      },
      "source": [
        "all_data.Gender.unique()"
      ],
      "execution_count": null,
      "outputs": [
        {
          "output_type": "execute_result",
          "data": {
            "text/plain": [
              "array(['Male', 'Female', 'Entity', 'Joint Gender', nan, 'NO GENDER',\n",
              "       'NOT STATED', 'SEX'], dtype=object)"
            ]
          },
          "metadata": {
            "tags": []
          },
          "execution_count": 26
        }
      ]
    },
    {
      "cell_type": "markdown",
      "metadata": {
        "id": "EGE9nU-RKzW5"
      },
      "source": [
        "### Data Processing"
      ]
    },
    {
      "cell_type": "code",
      "metadata": {
        "id": "CY5sPxlmKzW6",
        "colab": {
          "base_uri": "https://localhost:8080/",
          "height": 323
        },
        "outputId": "505e9691-e8e8-4c31-bfe6-5b778a7f4a48"
      },
      "source": [
        "train.head()"
      ],
      "execution_count": null,
      "outputs": [
        {
          "output_type": "execute_result",
          "data": {
            "text/html": [
              "<div>\n",
              "<style scoped>\n",
              "    .dataframe tbody tr th:only-of-type {\n",
              "        vertical-align: middle;\n",
              "    }\n",
              "\n",
              "    .dataframe tbody tr th {\n",
              "        vertical-align: top;\n",
              "    }\n",
              "\n",
              "    .dataframe thead th {\n",
              "        text-align: right;\n",
              "    }\n",
              "</style>\n",
              "<table border=\"1\" class=\"dataframe\">\n",
              "  <thead>\n",
              "    <tr style=\"text-align: right;\">\n",
              "      <th></th>\n",
              "      <th>ID</th>\n",
              "      <th>Policy Start Date</th>\n",
              "      <th>Policy End Date</th>\n",
              "      <th>Gender</th>\n",
              "      <th>Age</th>\n",
              "      <th>First Transaction Date</th>\n",
              "      <th>No_Pol</th>\n",
              "      <th>Car_Category</th>\n",
              "      <th>Subject_Car_Colour</th>\n",
              "      <th>Subject_Car_Make</th>\n",
              "      <th>LGA_Name</th>\n",
              "      <th>State</th>\n",
              "      <th>ProductName</th>\n",
              "      <th>target</th>\n",
              "    </tr>\n",
              "  </thead>\n",
              "  <tbody>\n",
              "    <tr>\n",
              "      <th>0</th>\n",
              "      <td>ID_0040R73</td>\n",
              "      <td>2010-05-14</td>\n",
              "      <td>2011-05-13</td>\n",
              "      <td>Male</td>\n",
              "      <td>30</td>\n",
              "      <td>2010-05-14</td>\n",
              "      <td>1</td>\n",
              "      <td>Saloon</td>\n",
              "      <td>Black</td>\n",
              "      <td>TOYOTA</td>\n",
              "      <td>NaN</td>\n",
              "      <td>NaN</td>\n",
              "      <td>Car Classic</td>\n",
              "      <td>0</td>\n",
              "    </tr>\n",
              "    <tr>\n",
              "      <th>1</th>\n",
              "      <td>ID_0046BNK</td>\n",
              "      <td>2010-11-29</td>\n",
              "      <td>2011-11-28</td>\n",
              "      <td>Female</td>\n",
              "      <td>79</td>\n",
              "      <td>2010-11-29</td>\n",
              "      <td>1</td>\n",
              "      <td>JEEP</td>\n",
              "      <td>Grey</td>\n",
              "      <td>TOYOTA</td>\n",
              "      <td>NaN</td>\n",
              "      <td>NaN</td>\n",
              "      <td>Car Classic</td>\n",
              "      <td>1</td>\n",
              "    </tr>\n",
              "    <tr>\n",
              "      <th>2</th>\n",
              "      <td>ID_005QMC3</td>\n",
              "      <td>2010-03-21</td>\n",
              "      <td>2011-03-20</td>\n",
              "      <td>Male</td>\n",
              "      <td>43</td>\n",
              "      <td>2010-03-21</td>\n",
              "      <td>1</td>\n",
              "      <td>Saloon</td>\n",
              "      <td>Red</td>\n",
              "      <td>TOYOTA</td>\n",
              "      <td>NaN</td>\n",
              "      <td>NaN</td>\n",
              "      <td>Car Classic</td>\n",
              "      <td>0</td>\n",
              "    </tr>\n",
              "    <tr>\n",
              "      <th>3</th>\n",
              "      <td>ID_0079OHW</td>\n",
              "      <td>2010-08-21</td>\n",
              "      <td>2011-08-20</td>\n",
              "      <td>Male</td>\n",
              "      <td>2</td>\n",
              "      <td>2010-08-21</td>\n",
              "      <td>1</td>\n",
              "      <td>NaN</td>\n",
              "      <td>NaN</td>\n",
              "      <td>NaN</td>\n",
              "      <td>NaN</td>\n",
              "      <td>NaN</td>\n",
              "      <td>CarSafe</td>\n",
              "      <td>0</td>\n",
              "    </tr>\n",
              "    <tr>\n",
              "      <th>4</th>\n",
              "      <td>ID_00BRP63</td>\n",
              "      <td>2010-08-29</td>\n",
              "      <td>2010-12-31</td>\n",
              "      <td>Entity</td>\n",
              "      <td>20</td>\n",
              "      <td>2010-08-29</td>\n",
              "      <td>3</td>\n",
              "      <td>NaN</td>\n",
              "      <td>NaN</td>\n",
              "      <td>NaN</td>\n",
              "      <td>Lagos</td>\n",
              "      <td>Lagos</td>\n",
              "      <td>Muuve</td>\n",
              "      <td>1</td>\n",
              "    </tr>\n",
              "  </tbody>\n",
              "</table>\n",
              "</div>"
            ],
            "text/plain": [
              "           ID Policy Start Date Policy End Date  ...  State  ProductName target\n",
              "0  ID_0040R73        2010-05-14      2011-05-13  ...    NaN  Car Classic      0\n",
              "1  ID_0046BNK        2010-11-29      2011-11-28  ...    NaN  Car Classic      1\n",
              "2  ID_005QMC3        2010-03-21      2011-03-20  ...    NaN  Car Classic      0\n",
              "3  ID_0079OHW        2010-08-21      2011-08-20  ...    NaN      CarSafe      0\n",
              "4  ID_00BRP63        2010-08-29      2010-12-31  ...  Lagos        Muuve      1\n",
              "\n",
              "[5 rows x 14 columns]"
            ]
          },
          "metadata": {
            "tags": []
          },
          "execution_count": 27
        }
      ]
    },
    {
      "cell_type": "code",
      "metadata": {
        "id": "sV1kxPuyKzW7",
        "colab": {
          "base_uri": "https://localhost:8080/",
          "height": 323
        },
        "outputId": "12da06b8-8cd8-4790-fbd6-8f189907380f"
      },
      "source": [
        "# replacing all missing values with a string constant\n",
        "all_data = all_data.fillna(\"no data\")\n",
        "all_data.head()"
      ],
      "execution_count": null,
      "outputs": [
        {
          "output_type": "execute_result",
          "data": {
            "text/html": [
              "<div>\n",
              "<style scoped>\n",
              "    .dataframe tbody tr th:only-of-type {\n",
              "        vertical-align: middle;\n",
              "    }\n",
              "\n",
              "    .dataframe tbody tr th {\n",
              "        vertical-align: top;\n",
              "    }\n",
              "\n",
              "    .dataframe thead th {\n",
              "        text-align: right;\n",
              "    }\n",
              "</style>\n",
              "<table border=\"1\" class=\"dataframe\">\n",
              "  <thead>\n",
              "    <tr style=\"text-align: right;\">\n",
              "      <th></th>\n",
              "      <th>ID</th>\n",
              "      <th>Policy Start Date</th>\n",
              "      <th>Policy End Date</th>\n",
              "      <th>Gender</th>\n",
              "      <th>Age</th>\n",
              "      <th>First Transaction Date</th>\n",
              "      <th>No_Pol</th>\n",
              "      <th>Car_Category</th>\n",
              "      <th>Subject_Car_Colour</th>\n",
              "      <th>Subject_Car_Make</th>\n",
              "      <th>LGA_Name</th>\n",
              "      <th>State</th>\n",
              "      <th>ProductName</th>\n",
              "      <th>target</th>\n",
              "    </tr>\n",
              "  </thead>\n",
              "  <tbody>\n",
              "    <tr>\n",
              "      <th>0</th>\n",
              "      <td>ID_0040R73</td>\n",
              "      <td>2010-05-14</td>\n",
              "      <td>2011-05-13</td>\n",
              "      <td>Male</td>\n",
              "      <td>30</td>\n",
              "      <td>2010-05-14</td>\n",
              "      <td>1</td>\n",
              "      <td>Saloon</td>\n",
              "      <td>Black</td>\n",
              "      <td>TOYOTA</td>\n",
              "      <td>no data</td>\n",
              "      <td>no data</td>\n",
              "      <td>Car Classic</td>\n",
              "      <td>0</td>\n",
              "    </tr>\n",
              "    <tr>\n",
              "      <th>1</th>\n",
              "      <td>ID_0046BNK</td>\n",
              "      <td>2010-11-29</td>\n",
              "      <td>2011-11-28</td>\n",
              "      <td>Female</td>\n",
              "      <td>79</td>\n",
              "      <td>2010-11-29</td>\n",
              "      <td>1</td>\n",
              "      <td>JEEP</td>\n",
              "      <td>Grey</td>\n",
              "      <td>TOYOTA</td>\n",
              "      <td>no data</td>\n",
              "      <td>no data</td>\n",
              "      <td>Car Classic</td>\n",
              "      <td>1</td>\n",
              "    </tr>\n",
              "    <tr>\n",
              "      <th>2</th>\n",
              "      <td>ID_005QMC3</td>\n",
              "      <td>2010-03-21</td>\n",
              "      <td>2011-03-20</td>\n",
              "      <td>Male</td>\n",
              "      <td>43</td>\n",
              "      <td>2010-03-21</td>\n",
              "      <td>1</td>\n",
              "      <td>Saloon</td>\n",
              "      <td>Red</td>\n",
              "      <td>TOYOTA</td>\n",
              "      <td>no data</td>\n",
              "      <td>no data</td>\n",
              "      <td>Car Classic</td>\n",
              "      <td>0</td>\n",
              "    </tr>\n",
              "    <tr>\n",
              "      <th>3</th>\n",
              "      <td>ID_0079OHW</td>\n",
              "      <td>2010-08-21</td>\n",
              "      <td>2011-08-20</td>\n",
              "      <td>Male</td>\n",
              "      <td>2</td>\n",
              "      <td>2010-08-21</td>\n",
              "      <td>1</td>\n",
              "      <td>no data</td>\n",
              "      <td>no data</td>\n",
              "      <td>no data</td>\n",
              "      <td>no data</td>\n",
              "      <td>no data</td>\n",
              "      <td>CarSafe</td>\n",
              "      <td>0</td>\n",
              "    </tr>\n",
              "    <tr>\n",
              "      <th>4</th>\n",
              "      <td>ID_00BRP63</td>\n",
              "      <td>2010-08-29</td>\n",
              "      <td>2010-12-31</td>\n",
              "      <td>Entity</td>\n",
              "      <td>20</td>\n",
              "      <td>2010-08-29</td>\n",
              "      <td>3</td>\n",
              "      <td>no data</td>\n",
              "      <td>no data</td>\n",
              "      <td>no data</td>\n",
              "      <td>Lagos</td>\n",
              "      <td>Lagos</td>\n",
              "      <td>Muuve</td>\n",
              "      <td>1</td>\n",
              "    </tr>\n",
              "  </tbody>\n",
              "</table>\n",
              "</div>"
            ],
            "text/plain": [
              "           ID Policy Start Date Policy End Date  ...    State  ProductName target\n",
              "0  ID_0040R73        2010-05-14      2011-05-13  ...  no data  Car Classic      0\n",
              "1  ID_0046BNK        2010-11-29      2011-11-28  ...  no data  Car Classic      1\n",
              "2  ID_005QMC3        2010-03-21      2011-03-20  ...  no data  Car Classic      0\n",
              "3  ID_0079OHW        2010-08-21      2011-08-20  ...  no data      CarSafe      0\n",
              "4  ID_00BRP63        2010-08-29      2010-12-31  ...    Lagos        Muuve      1\n",
              "\n",
              "[5 rows x 14 columns]"
            ]
          },
          "metadata": {
            "tags": []
          },
          "execution_count": 28
        }
      ]
    },
    {
      "cell_type": "code",
      "metadata": {
        "id": "QjTrA4V_KzW7",
        "colab": {
          "base_uri": "https://localhost:8080/"
        },
        "outputId": "838e5e09-d085-444e-e3fd-80ed1c7234a2"
      },
      "source": [
        "#checking if missing values still exist\n",
        "print(\"Are There still Missing value in data? :\",all_data.isnull().any().any())\n",
        "print((all_data.isnull().sum()/all_data.shape[0])*100)"
      ],
      "execution_count": null,
      "outputs": [
        {
          "output_type": "stream",
          "text": [
            "Are There still Missing value in data? : False\n",
            "ID                        0.0\n",
            "Policy Start Date         0.0\n",
            "Policy End Date           0.0\n",
            "Gender                    0.0\n",
            "Age                       0.0\n",
            "First Transaction Date    0.0\n",
            "No_Pol                    0.0\n",
            "Car_Category              0.0\n",
            "Subject_Car_Colour        0.0\n",
            "Subject_Car_Make          0.0\n",
            "LGA_Name                  0.0\n",
            "State                     0.0\n",
            "ProductName               0.0\n",
            "target                    0.0\n",
            "dtype: float64\n"
          ],
          "name": "stdout"
        }
      ]
    },
    {
      "cell_type": "markdown",
      "metadata": {
        "id": "Bi-g_Yc9KzW8"
      },
      "source": [
        "### Dealing with date columns"
      ]
    },
    {
      "cell_type": "code",
      "metadata": {
        "id": "meb68QfPKzXI",
        "colab": {
          "base_uri": "https://localhost:8080/"
        },
        "outputId": "7ef213ab-aa30-495b-862e-cad565a9fb53"
      },
      "source": [
        "date_col"
      ],
      "execution_count": null,
      "outputs": [
        {
          "output_type": "execute_result",
          "data": {
            "text/plain": [
              "['Policy Start Date', 'Policy End Date', 'First Transaction Date']"
            ]
          },
          "metadata": {
            "tags": []
          },
          "execution_count": 30
        }
      ]
    },
    {
      "cell_type": "code",
      "metadata": {
        "id": "9Vo_yG6tKzXL"
      },
      "source": [
        "# assigning appropriate data type to the date features\n",
        "for feat in date_col:\n",
        "    all_data[feat] = pd.to_datetime(all_data[feat])"
      ],
      "execution_count": null,
      "outputs": []
    },
    {
      "cell_type": "code",
      "metadata": {
        "id": "nCDgFX9wKzXL",
        "colab": {
          "base_uri": "https://localhost:8080/"
        },
        "outputId": "e063df22-a61e-45a7-944a-07263e86b6c2"
      },
      "source": [
        "all_data.info()"
      ],
      "execution_count": null,
      "outputs": [
        {
          "output_type": "stream",
          "text": [
            "<class 'pandas.core.frame.DataFrame'>\n",
            "RangeIndex: 13281 entries, 0 to 13280\n",
            "Data columns (total 14 columns):\n",
            " #   Column                  Non-Null Count  Dtype         \n",
            "---  ------                  --------------  -----         \n",
            " 0   ID                      13281 non-null  object        \n",
            " 1   Policy Start Date       13281 non-null  datetime64[ns]\n",
            " 2   Policy End Date         13281 non-null  datetime64[ns]\n",
            " 3   Gender                  13281 non-null  object        \n",
            " 4   Age                     13281 non-null  int64         \n",
            " 5   First Transaction Date  13281 non-null  datetime64[ns]\n",
            " 6   No_Pol                  13281 non-null  int64         \n",
            " 7   Car_Category            13281 non-null  object        \n",
            " 8   Subject_Car_Colour      13281 non-null  object        \n",
            " 9   Subject_Car_Make        13281 non-null  object        \n",
            " 10  LGA_Name                13281 non-null  object        \n",
            " 11  State                   13281 non-null  object        \n",
            " 12  ProductName             13281 non-null  object        \n",
            " 13  target                  13281 non-null  object        \n",
            "dtypes: datetime64[ns](3), int64(2), object(9)\n",
            "memory usage: 1.4+ MB\n"
          ],
          "name": "stdout"
        }
      ]
    },
    {
      "cell_type": "code",
      "metadata": {
        "id": "M6B6FVlJKzXM",
        "colab": {
          "base_uri": "https://localhost:8080/",
          "height": 323
        },
        "outputId": "ae3fa8e3-ec4c-4d3e-a27b-dc448df35793"
      },
      "source": [
        "all_data.head()"
      ],
      "execution_count": null,
      "outputs": [
        {
          "output_type": "execute_result",
          "data": {
            "text/html": [
              "<div>\n",
              "<style scoped>\n",
              "    .dataframe tbody tr th:only-of-type {\n",
              "        vertical-align: middle;\n",
              "    }\n",
              "\n",
              "    .dataframe tbody tr th {\n",
              "        vertical-align: top;\n",
              "    }\n",
              "\n",
              "    .dataframe thead th {\n",
              "        text-align: right;\n",
              "    }\n",
              "</style>\n",
              "<table border=\"1\" class=\"dataframe\">\n",
              "  <thead>\n",
              "    <tr style=\"text-align: right;\">\n",
              "      <th></th>\n",
              "      <th>ID</th>\n",
              "      <th>Policy Start Date</th>\n",
              "      <th>Policy End Date</th>\n",
              "      <th>Gender</th>\n",
              "      <th>Age</th>\n",
              "      <th>First Transaction Date</th>\n",
              "      <th>No_Pol</th>\n",
              "      <th>Car_Category</th>\n",
              "      <th>Subject_Car_Colour</th>\n",
              "      <th>Subject_Car_Make</th>\n",
              "      <th>LGA_Name</th>\n",
              "      <th>State</th>\n",
              "      <th>ProductName</th>\n",
              "      <th>target</th>\n",
              "    </tr>\n",
              "  </thead>\n",
              "  <tbody>\n",
              "    <tr>\n",
              "      <th>0</th>\n",
              "      <td>ID_0040R73</td>\n",
              "      <td>2010-05-14</td>\n",
              "      <td>2011-05-13</td>\n",
              "      <td>Male</td>\n",
              "      <td>30</td>\n",
              "      <td>2010-05-14</td>\n",
              "      <td>1</td>\n",
              "      <td>Saloon</td>\n",
              "      <td>Black</td>\n",
              "      <td>TOYOTA</td>\n",
              "      <td>no data</td>\n",
              "      <td>no data</td>\n",
              "      <td>Car Classic</td>\n",
              "      <td>0</td>\n",
              "    </tr>\n",
              "    <tr>\n",
              "      <th>1</th>\n",
              "      <td>ID_0046BNK</td>\n",
              "      <td>2010-11-29</td>\n",
              "      <td>2011-11-28</td>\n",
              "      <td>Female</td>\n",
              "      <td>79</td>\n",
              "      <td>2010-11-29</td>\n",
              "      <td>1</td>\n",
              "      <td>JEEP</td>\n",
              "      <td>Grey</td>\n",
              "      <td>TOYOTA</td>\n",
              "      <td>no data</td>\n",
              "      <td>no data</td>\n",
              "      <td>Car Classic</td>\n",
              "      <td>1</td>\n",
              "    </tr>\n",
              "    <tr>\n",
              "      <th>2</th>\n",
              "      <td>ID_005QMC3</td>\n",
              "      <td>2010-03-21</td>\n",
              "      <td>2011-03-20</td>\n",
              "      <td>Male</td>\n",
              "      <td>43</td>\n",
              "      <td>2010-03-21</td>\n",
              "      <td>1</td>\n",
              "      <td>Saloon</td>\n",
              "      <td>Red</td>\n",
              "      <td>TOYOTA</td>\n",
              "      <td>no data</td>\n",
              "      <td>no data</td>\n",
              "      <td>Car Classic</td>\n",
              "      <td>0</td>\n",
              "    </tr>\n",
              "    <tr>\n",
              "      <th>3</th>\n",
              "      <td>ID_0079OHW</td>\n",
              "      <td>2010-08-21</td>\n",
              "      <td>2011-08-20</td>\n",
              "      <td>Male</td>\n",
              "      <td>2</td>\n",
              "      <td>2010-08-21</td>\n",
              "      <td>1</td>\n",
              "      <td>no data</td>\n",
              "      <td>no data</td>\n",
              "      <td>no data</td>\n",
              "      <td>no data</td>\n",
              "      <td>no data</td>\n",
              "      <td>CarSafe</td>\n",
              "      <td>0</td>\n",
              "    </tr>\n",
              "    <tr>\n",
              "      <th>4</th>\n",
              "      <td>ID_00BRP63</td>\n",
              "      <td>2010-08-29</td>\n",
              "      <td>2010-12-31</td>\n",
              "      <td>Entity</td>\n",
              "      <td>20</td>\n",
              "      <td>2010-08-29</td>\n",
              "      <td>3</td>\n",
              "      <td>no data</td>\n",
              "      <td>no data</td>\n",
              "      <td>no data</td>\n",
              "      <td>Lagos</td>\n",
              "      <td>Lagos</td>\n",
              "      <td>Muuve</td>\n",
              "      <td>1</td>\n",
              "    </tr>\n",
              "  </tbody>\n",
              "</table>\n",
              "</div>"
            ],
            "text/plain": [
              "           ID Policy Start Date Policy End Date  ...    State  ProductName target\n",
              "0  ID_0040R73        2010-05-14      2011-05-13  ...  no data  Car Classic      0\n",
              "1  ID_0046BNK        2010-11-29      2011-11-28  ...  no data  Car Classic      1\n",
              "2  ID_005QMC3        2010-03-21      2011-03-20  ...  no data  Car Classic      0\n",
              "3  ID_0079OHW        2010-08-21      2011-08-20  ...  no data      CarSafe      0\n",
              "4  ID_00BRP63        2010-08-29      2010-12-31  ...    Lagos        Muuve      1\n",
              "\n",
              "[5 rows x 14 columns]"
            ]
          },
          "metadata": {
            "tags": []
          },
          "execution_count": 33
        }
      ]
    },
    {
      "cell_type": "code",
      "metadata": {
        "id": "-toi7GL2KzXO"
      },
      "source": [
        "# extracting information in the date columns\n",
        "def extract_date_info(df,cols,):\n",
        "    for feat in cols:\n",
        "        df[feat +'_year'] = df[feat].dt.quarter\n",
        "        df[feat +'_day'] = df[feat].dt.day\n",
        "        df[feat +'_month'] = df[feat].dt.month\n",
        "        df[feat +'_quarter'] = df[feat].dt.quarter\n",
        "    df.drop(columns=date_col,axis=1,inplace=True)"
      ],
      "execution_count": null,
      "outputs": []
    },
    {
      "cell_type": "code",
      "metadata": {
        "id": "F_SEZafaKzXP"
      },
      "source": [
        "extract_date_info(all_data,date_col)"
      ],
      "execution_count": null,
      "outputs": []
    },
    {
      "cell_type": "code",
      "metadata": {
        "id": "gX2bVUibKzXQ",
        "colab": {
          "base_uri": "https://localhost:8080/",
          "height": 326
        },
        "outputId": "2568a0a7-d726-48d1-b24f-b3c1a9a0c57c"
      },
      "source": [
        "all_data.head()"
      ],
      "execution_count": null,
      "outputs": [
        {
          "output_type": "execute_result",
          "data": {
            "text/html": [
              "<div>\n",
              "<style scoped>\n",
              "    .dataframe tbody tr th:only-of-type {\n",
              "        vertical-align: middle;\n",
              "    }\n",
              "\n",
              "    .dataframe tbody tr th {\n",
              "        vertical-align: top;\n",
              "    }\n",
              "\n",
              "    .dataframe thead th {\n",
              "        text-align: right;\n",
              "    }\n",
              "</style>\n",
              "<table border=\"1\" class=\"dataframe\">\n",
              "  <thead>\n",
              "    <tr style=\"text-align: right;\">\n",
              "      <th></th>\n",
              "      <th>ID</th>\n",
              "      <th>Gender</th>\n",
              "      <th>Age</th>\n",
              "      <th>No_Pol</th>\n",
              "      <th>Car_Category</th>\n",
              "      <th>Subject_Car_Colour</th>\n",
              "      <th>Subject_Car_Make</th>\n",
              "      <th>LGA_Name</th>\n",
              "      <th>State</th>\n",
              "      <th>ProductName</th>\n",
              "      <th>target</th>\n",
              "      <th>Policy Start Date_year</th>\n",
              "      <th>Policy Start Date_day</th>\n",
              "      <th>Policy Start Date_month</th>\n",
              "      <th>Policy Start Date_quarter</th>\n",
              "      <th>Policy End Date_year</th>\n",
              "      <th>Policy End Date_day</th>\n",
              "      <th>Policy End Date_month</th>\n",
              "      <th>Policy End Date_quarter</th>\n",
              "      <th>First Transaction Date_year</th>\n",
              "      <th>First Transaction Date_day</th>\n",
              "      <th>First Transaction Date_month</th>\n",
              "      <th>First Transaction Date_quarter</th>\n",
              "    </tr>\n",
              "  </thead>\n",
              "  <tbody>\n",
              "    <tr>\n",
              "      <th>0</th>\n",
              "      <td>ID_0040R73</td>\n",
              "      <td>Male</td>\n",
              "      <td>30</td>\n",
              "      <td>1</td>\n",
              "      <td>Saloon</td>\n",
              "      <td>Black</td>\n",
              "      <td>TOYOTA</td>\n",
              "      <td>no data</td>\n",
              "      <td>no data</td>\n",
              "      <td>Car Classic</td>\n",
              "      <td>0</td>\n",
              "      <td>2</td>\n",
              "      <td>14</td>\n",
              "      <td>5</td>\n",
              "      <td>2</td>\n",
              "      <td>2</td>\n",
              "      <td>13</td>\n",
              "      <td>5</td>\n",
              "      <td>2</td>\n",
              "      <td>2</td>\n",
              "      <td>14</td>\n",
              "      <td>5</td>\n",
              "      <td>2</td>\n",
              "    </tr>\n",
              "    <tr>\n",
              "      <th>1</th>\n",
              "      <td>ID_0046BNK</td>\n",
              "      <td>Female</td>\n",
              "      <td>79</td>\n",
              "      <td>1</td>\n",
              "      <td>JEEP</td>\n",
              "      <td>Grey</td>\n",
              "      <td>TOYOTA</td>\n",
              "      <td>no data</td>\n",
              "      <td>no data</td>\n",
              "      <td>Car Classic</td>\n",
              "      <td>1</td>\n",
              "      <td>4</td>\n",
              "      <td>29</td>\n",
              "      <td>11</td>\n",
              "      <td>4</td>\n",
              "      <td>4</td>\n",
              "      <td>28</td>\n",
              "      <td>11</td>\n",
              "      <td>4</td>\n",
              "      <td>4</td>\n",
              "      <td>29</td>\n",
              "      <td>11</td>\n",
              "      <td>4</td>\n",
              "    </tr>\n",
              "    <tr>\n",
              "      <th>2</th>\n",
              "      <td>ID_005QMC3</td>\n",
              "      <td>Male</td>\n",
              "      <td>43</td>\n",
              "      <td>1</td>\n",
              "      <td>Saloon</td>\n",
              "      <td>Red</td>\n",
              "      <td>TOYOTA</td>\n",
              "      <td>no data</td>\n",
              "      <td>no data</td>\n",
              "      <td>Car Classic</td>\n",
              "      <td>0</td>\n",
              "      <td>1</td>\n",
              "      <td>21</td>\n",
              "      <td>3</td>\n",
              "      <td>1</td>\n",
              "      <td>1</td>\n",
              "      <td>20</td>\n",
              "      <td>3</td>\n",
              "      <td>1</td>\n",
              "      <td>1</td>\n",
              "      <td>21</td>\n",
              "      <td>3</td>\n",
              "      <td>1</td>\n",
              "    </tr>\n",
              "    <tr>\n",
              "      <th>3</th>\n",
              "      <td>ID_0079OHW</td>\n",
              "      <td>Male</td>\n",
              "      <td>2</td>\n",
              "      <td>1</td>\n",
              "      <td>no data</td>\n",
              "      <td>no data</td>\n",
              "      <td>no data</td>\n",
              "      <td>no data</td>\n",
              "      <td>no data</td>\n",
              "      <td>CarSafe</td>\n",
              "      <td>0</td>\n",
              "      <td>3</td>\n",
              "      <td>21</td>\n",
              "      <td>8</td>\n",
              "      <td>3</td>\n",
              "      <td>3</td>\n",
              "      <td>20</td>\n",
              "      <td>8</td>\n",
              "      <td>3</td>\n",
              "      <td>3</td>\n",
              "      <td>21</td>\n",
              "      <td>8</td>\n",
              "      <td>3</td>\n",
              "    </tr>\n",
              "    <tr>\n",
              "      <th>4</th>\n",
              "      <td>ID_00BRP63</td>\n",
              "      <td>Entity</td>\n",
              "      <td>20</td>\n",
              "      <td>3</td>\n",
              "      <td>no data</td>\n",
              "      <td>no data</td>\n",
              "      <td>no data</td>\n",
              "      <td>Lagos</td>\n",
              "      <td>Lagos</td>\n",
              "      <td>Muuve</td>\n",
              "      <td>1</td>\n",
              "      <td>3</td>\n",
              "      <td>29</td>\n",
              "      <td>8</td>\n",
              "      <td>3</td>\n",
              "      <td>4</td>\n",
              "      <td>31</td>\n",
              "      <td>12</td>\n",
              "      <td>4</td>\n",
              "      <td>3</td>\n",
              "      <td>29</td>\n",
              "      <td>8</td>\n",
              "      <td>3</td>\n",
              "    </tr>\n",
              "  </tbody>\n",
              "</table>\n",
              "</div>"
            ],
            "text/plain": [
              "           ID  ... First Transaction Date_quarter\n",
              "0  ID_0040R73  ...                              2\n",
              "1  ID_0046BNK  ...                              4\n",
              "2  ID_005QMC3  ...                              1\n",
              "3  ID_0079OHW  ...                              3\n",
              "4  ID_00BRP63  ...                              3\n",
              "\n",
              "[5 rows x 23 columns]"
            ]
          },
          "metadata": {
            "tags": []
          },
          "execution_count": 36
        }
      ]
    },
    {
      "cell_type": "code",
      "metadata": {
        "id": "fJbo0P3QKzXS",
        "colab": {
          "base_uri": "https://localhost:8080/"
        },
        "outputId": "d7cc592b-9be8-4395-8f37-8ff2cb4d202e"
      },
      "source": [
        "all_data.Gender.unique()"
      ],
      "execution_count": null,
      "outputs": [
        {
          "output_type": "execute_result",
          "data": {
            "text/plain": [
              "array(['Male', 'Female', 'Entity', 'Joint Gender', 'no data', 'NO GENDER',\n",
              "       'NOT STATED', 'SEX'], dtype=object)"
            ]
          },
          "metadata": {
            "tags": []
          },
          "execution_count": 37
        }
      ]
    },
    {
      "cell_type": "markdown",
      "metadata": {
        "id": "wzgzmbEKAJzJ"
      },
      "source": [
        "##### Dealing with the Gender column"
      ]
    },
    {
      "cell_type": "code",
      "metadata": {
        "id": "apsouvB8KzXT"
      },
      "source": [
        "mapper = {\"Male\":\"M\",\"Female\":'F','Entity':'O','Joint Gender':'O','no data':'O','NO GENDER':'O','NOT STATED':'O','SEX':'O' }"
      ],
      "execution_count": null,
      "outputs": []
    },
    {
      "cell_type": "code",
      "metadata": {
        "id": "jQCZmQc9KzXU"
      },
      "source": [
        "all_data.Gender = all_data.Gender.map(mapper)"
      ],
      "execution_count": null,
      "outputs": []
    },
    {
      "cell_type": "code",
      "metadata": {
        "id": "d1zeL4uHKzXU",
        "colab": {
          "base_uri": "https://localhost:8080/"
        },
        "outputId": "66ae6b17-ac0d-4b16-af0d-2bbcf1376446"
      },
      "source": [
        "all_data.Gender.unique()"
      ],
      "execution_count": null,
      "outputs": [
        {
          "output_type": "execute_result",
          "data": {
            "text/plain": [
              "array(['M', 'F', 'O'], dtype=object)"
            ]
          },
          "metadata": {
            "tags": []
          },
          "execution_count": 40
        }
      ]
    },
    {
      "cell_type": "code",
      "metadata": {
        "id": "q5Lxo6MNKzXW"
      },
      "source": [
        "# replacing  missing values in the with a numeric constant just as a placeholder\n",
        "all_data.target.replace(to_replace=\"no data\", value=9999, inplace=True)"
      ],
      "execution_count": null,
      "outputs": []
    },
    {
      "cell_type": "code",
      "metadata": {
        "id": "wrOT4TS9KzXY",
        "colab": {
          "base_uri": "https://localhost:8080/"
        },
        "outputId": "0f630839-c7a4-4cb2-cf3c-0ab72cd21dd8"
      },
      "source": [
        "all_data.target.isna().sum()"
      ],
      "execution_count": null,
      "outputs": [
        {
          "output_type": "execute_result",
          "data": {
            "text/plain": [
              "0"
            ]
          },
          "metadata": {
            "tags": []
          },
          "execution_count": 42
        }
      ]
    },
    {
      "cell_type": "code",
      "metadata": {
        "id": "fqOxfbbJKzXZ"
      },
      "source": [
        "all_data.target = all_data.target.astype(int)"
      ],
      "execution_count": null,
      "outputs": []
    },
    {
      "cell_type": "code",
      "metadata": {
        "id": "tZaYifcRKzXa",
        "colab": {
          "base_uri": "https://localhost:8080/",
          "height": 326
        },
        "outputId": "adbd8e72-4acd-4561-dc47-f623ed459123"
      },
      "source": [
        "all_data.head()"
      ],
      "execution_count": null,
      "outputs": [
        {
          "output_type": "execute_result",
          "data": {
            "text/html": [
              "<div>\n",
              "<style scoped>\n",
              "    .dataframe tbody tr th:only-of-type {\n",
              "        vertical-align: middle;\n",
              "    }\n",
              "\n",
              "    .dataframe tbody tr th {\n",
              "        vertical-align: top;\n",
              "    }\n",
              "\n",
              "    .dataframe thead th {\n",
              "        text-align: right;\n",
              "    }\n",
              "</style>\n",
              "<table border=\"1\" class=\"dataframe\">\n",
              "  <thead>\n",
              "    <tr style=\"text-align: right;\">\n",
              "      <th></th>\n",
              "      <th>ID</th>\n",
              "      <th>Gender</th>\n",
              "      <th>Age</th>\n",
              "      <th>No_Pol</th>\n",
              "      <th>Car_Category</th>\n",
              "      <th>Subject_Car_Colour</th>\n",
              "      <th>Subject_Car_Make</th>\n",
              "      <th>LGA_Name</th>\n",
              "      <th>State</th>\n",
              "      <th>ProductName</th>\n",
              "      <th>target</th>\n",
              "      <th>Policy Start Date_year</th>\n",
              "      <th>Policy Start Date_day</th>\n",
              "      <th>Policy Start Date_month</th>\n",
              "      <th>Policy Start Date_quarter</th>\n",
              "      <th>Policy End Date_year</th>\n",
              "      <th>Policy End Date_day</th>\n",
              "      <th>Policy End Date_month</th>\n",
              "      <th>Policy End Date_quarter</th>\n",
              "      <th>First Transaction Date_year</th>\n",
              "      <th>First Transaction Date_day</th>\n",
              "      <th>First Transaction Date_month</th>\n",
              "      <th>First Transaction Date_quarter</th>\n",
              "    </tr>\n",
              "  </thead>\n",
              "  <tbody>\n",
              "    <tr>\n",
              "      <th>0</th>\n",
              "      <td>ID_0040R73</td>\n",
              "      <td>M</td>\n",
              "      <td>30</td>\n",
              "      <td>1</td>\n",
              "      <td>Saloon</td>\n",
              "      <td>Black</td>\n",
              "      <td>TOYOTA</td>\n",
              "      <td>no data</td>\n",
              "      <td>no data</td>\n",
              "      <td>Car Classic</td>\n",
              "      <td>0</td>\n",
              "      <td>2</td>\n",
              "      <td>14</td>\n",
              "      <td>5</td>\n",
              "      <td>2</td>\n",
              "      <td>2</td>\n",
              "      <td>13</td>\n",
              "      <td>5</td>\n",
              "      <td>2</td>\n",
              "      <td>2</td>\n",
              "      <td>14</td>\n",
              "      <td>5</td>\n",
              "      <td>2</td>\n",
              "    </tr>\n",
              "    <tr>\n",
              "      <th>1</th>\n",
              "      <td>ID_0046BNK</td>\n",
              "      <td>F</td>\n",
              "      <td>79</td>\n",
              "      <td>1</td>\n",
              "      <td>JEEP</td>\n",
              "      <td>Grey</td>\n",
              "      <td>TOYOTA</td>\n",
              "      <td>no data</td>\n",
              "      <td>no data</td>\n",
              "      <td>Car Classic</td>\n",
              "      <td>1</td>\n",
              "      <td>4</td>\n",
              "      <td>29</td>\n",
              "      <td>11</td>\n",
              "      <td>4</td>\n",
              "      <td>4</td>\n",
              "      <td>28</td>\n",
              "      <td>11</td>\n",
              "      <td>4</td>\n",
              "      <td>4</td>\n",
              "      <td>29</td>\n",
              "      <td>11</td>\n",
              "      <td>4</td>\n",
              "    </tr>\n",
              "    <tr>\n",
              "      <th>2</th>\n",
              "      <td>ID_005QMC3</td>\n",
              "      <td>M</td>\n",
              "      <td>43</td>\n",
              "      <td>1</td>\n",
              "      <td>Saloon</td>\n",
              "      <td>Red</td>\n",
              "      <td>TOYOTA</td>\n",
              "      <td>no data</td>\n",
              "      <td>no data</td>\n",
              "      <td>Car Classic</td>\n",
              "      <td>0</td>\n",
              "      <td>1</td>\n",
              "      <td>21</td>\n",
              "      <td>3</td>\n",
              "      <td>1</td>\n",
              "      <td>1</td>\n",
              "      <td>20</td>\n",
              "      <td>3</td>\n",
              "      <td>1</td>\n",
              "      <td>1</td>\n",
              "      <td>21</td>\n",
              "      <td>3</td>\n",
              "      <td>1</td>\n",
              "    </tr>\n",
              "    <tr>\n",
              "      <th>3</th>\n",
              "      <td>ID_0079OHW</td>\n",
              "      <td>M</td>\n",
              "      <td>2</td>\n",
              "      <td>1</td>\n",
              "      <td>no data</td>\n",
              "      <td>no data</td>\n",
              "      <td>no data</td>\n",
              "      <td>no data</td>\n",
              "      <td>no data</td>\n",
              "      <td>CarSafe</td>\n",
              "      <td>0</td>\n",
              "      <td>3</td>\n",
              "      <td>21</td>\n",
              "      <td>8</td>\n",
              "      <td>3</td>\n",
              "      <td>3</td>\n",
              "      <td>20</td>\n",
              "      <td>8</td>\n",
              "      <td>3</td>\n",
              "      <td>3</td>\n",
              "      <td>21</td>\n",
              "      <td>8</td>\n",
              "      <td>3</td>\n",
              "    </tr>\n",
              "    <tr>\n",
              "      <th>4</th>\n",
              "      <td>ID_00BRP63</td>\n",
              "      <td>O</td>\n",
              "      <td>20</td>\n",
              "      <td>3</td>\n",
              "      <td>no data</td>\n",
              "      <td>no data</td>\n",
              "      <td>no data</td>\n",
              "      <td>Lagos</td>\n",
              "      <td>Lagos</td>\n",
              "      <td>Muuve</td>\n",
              "      <td>1</td>\n",
              "      <td>3</td>\n",
              "      <td>29</td>\n",
              "      <td>8</td>\n",
              "      <td>3</td>\n",
              "      <td>4</td>\n",
              "      <td>31</td>\n",
              "      <td>12</td>\n",
              "      <td>4</td>\n",
              "      <td>3</td>\n",
              "      <td>29</td>\n",
              "      <td>8</td>\n",
              "      <td>3</td>\n",
              "    </tr>\n",
              "  </tbody>\n",
              "</table>\n",
              "</div>"
            ],
            "text/plain": [
              "           ID  ... First Transaction Date_quarter\n",
              "0  ID_0040R73  ...                              2\n",
              "1  ID_0046BNK  ...                              4\n",
              "2  ID_005QMC3  ...                              1\n",
              "3  ID_0079OHW  ...                              3\n",
              "4  ID_00BRP63  ...                              3\n",
              "\n",
              "[5 rows x 23 columns]"
            ]
          },
          "metadata": {
            "tags": []
          },
          "execution_count": 44
        }
      ]
    },
    {
      "cell_type": "code",
      "metadata": {
        "id": "uvOZblZoKzXb",
        "colab": {
          "base_uri": "https://localhost:8080/"
        },
        "outputId": "e2ed79db-f5a8-459c-a621-ef4c0d98d818"
      },
      "source": [
        "all_data.info()"
      ],
      "execution_count": null,
      "outputs": [
        {
          "output_type": "stream",
          "text": [
            "<class 'pandas.core.frame.DataFrame'>\n",
            "RangeIndex: 13281 entries, 0 to 13280\n",
            "Data columns (total 23 columns):\n",
            " #   Column                          Non-Null Count  Dtype \n",
            "---  ------                          --------------  ----- \n",
            " 0   ID                              13281 non-null  object\n",
            " 1   Gender                          13281 non-null  object\n",
            " 2   Age                             13281 non-null  int64 \n",
            " 3   No_Pol                          13281 non-null  int64 \n",
            " 4   Car_Category                    13281 non-null  object\n",
            " 5   Subject_Car_Colour              13281 non-null  object\n",
            " 6   Subject_Car_Make                13281 non-null  object\n",
            " 7   LGA_Name                        13281 non-null  object\n",
            " 8   State                           13281 non-null  object\n",
            " 9   ProductName                     13281 non-null  object\n",
            " 10  target                          13281 non-null  int64 \n",
            " 11  Policy Start Date_year          13281 non-null  int64 \n",
            " 12  Policy Start Date_day           13281 non-null  int64 \n",
            " 13  Policy Start Date_month         13281 non-null  int64 \n",
            " 14  Policy Start Date_quarter       13281 non-null  int64 \n",
            " 15  Policy End Date_year            13281 non-null  int64 \n",
            " 16  Policy End Date_day             13281 non-null  int64 \n",
            " 17  Policy End Date_month           13281 non-null  int64 \n",
            " 18  Policy End Date_quarter         13281 non-null  int64 \n",
            " 19  First Transaction Date_year     13281 non-null  int64 \n",
            " 20  First Transaction Date_day      13281 non-null  int64 \n",
            " 21  First Transaction Date_month    13281 non-null  int64 \n",
            " 22  First Transaction Date_quarter  13281 non-null  int64 \n",
            "dtypes: int64(15), object(8)\n",
            "memory usage: 2.3+ MB\n"
          ],
          "name": "stdout"
        }
      ]
    },
    {
      "cell_type": "markdown",
      "metadata": {
        "id": "WgLbmZlyKzXb"
      },
      "source": [
        "### Encoding Categorical Variables"
      ]
    },
    {
      "cell_type": "markdown",
      "metadata": {
        "id": "sGVuhljPA4W2"
      },
      "source": [
        "##### Checking for unique entries"
      ]
    },
    {
      "cell_type": "code",
      "metadata": {
        "id": "04TqWUxLKzXc",
        "colab": {
          "base_uri": "https://localhost:8080/"
        },
        "outputId": "92098fb5-b254-44af-87b2-0c9091793c66"
      },
      "source": [
        "all_data.Car_Category.unique()"
      ],
      "execution_count": null,
      "outputs": [
        {
          "output_type": "execute_result",
          "data": {
            "text/plain": [
              "array(['Saloon', 'JEEP', 'no data', 'Motorcycle', 'Truck', 'Bus',\n",
              "       'Mini Bus', 'Pick Up', 'Mini Van', 'Van', 'Pick Up > 3 Tons',\n",
              "       'CAMRY CAR HIRE', 'Wagon', 'Shape Of Vehicle Chasis', 'Sedan',\n",
              "       'Station 4 Wheel', 'Tipper Truck'], dtype=object)"
            ]
          },
          "metadata": {
            "tags": []
          },
          "execution_count": 46
        }
      ]
    },
    {
      "cell_type": "code",
      "metadata": {
        "id": "sA55g9t_KzXd",
        "colab": {
          "base_uri": "https://localhost:8080/"
        },
        "outputId": "d750da5e-7bd0-455f-ced6-1c85ca120778"
      },
      "source": [
        "all_data.Subject_Car_Colour.unique()"
      ],
      "execution_count": null,
      "outputs": [
        {
          "output_type": "execute_result",
          "data": {
            "text/plain": [
              "array(['Black', 'Grey', 'Red', 'no data', 'As Attached', 'Blue', 'Silver',\n",
              "       'Green', 'Ash', 'White', 'Gray & Gray', 'Wine', 'Brown',\n",
              "       'Red & Blue', 'Gold', 'Gray & Silver', 'Orange', 'Red & Black',\n",
              "       'Dark Grey', 'White & Red', 'Light Green', 'Dark Gray', 'B.Silver',\n",
              "       'Purple', 'Blue & Red', 'Red & Yellow', 'Yellow', 'Red & White',\n",
              "       'D. Red', 'Dark Red', 'Black & White', 'White & Blue', 'Cream',\n",
              "       'Dark Green', 'D. Gold', 'Champagne', 'Light Blue',\n",
              "       'Blue&White&Red', 'White & Yellow', 'Dark Blue', 'Black & Orange',\n",
              "       'Burgundy', 'Yellow & White', 'Beige Mitalic', 'Light Gray',\n",
              "       'Blue Sky', 'Red Maroon'], dtype=object)"
            ]
          },
          "metadata": {
            "tags": []
          },
          "execution_count": 47
        }
      ]
    },
    {
      "cell_type": "code",
      "metadata": {
        "id": "mOOAz4NYKzXe",
        "colab": {
          "base_uri": "https://localhost:8080/"
        },
        "outputId": "ead60555-e791-43ed-e3fc-facce7e05dde"
      },
      "source": [
        "all_data.Subject_Car_Make.unique()"
      ],
      "execution_count": null,
      "outputs": [
        {
          "output_type": "execute_result",
          "data": {
            "text/plain": [
              "array(['TOYOTA', 'no data', 'REXTON', 'Lexus', 'Hyundai', 'Iveco', 'DAF',\n",
              "       'Honda', 'Mercedes', 'Jincheng', 'ACURA', 'Ford', 'Volkswagen',\n",
              "       'Nissan', '.', 'Pontiac', 'Range Rover', 'Kia', 'Mitsubishi',\n",
              "       'Scania', 'BMW', 'Infiniti', 'Renault', 'Volvo', 'Hummer', 'Mack',\n",
              "       'Grand Cherokee', 'Porsche', 'Peugeot', 'Land Rover', 'Chevrolet',\n",
              "       'Mazda', 'Man', 'Jeep', 'Audi', 'Suzuki', 'MINI COOPER', 'KA',\n",
              "       'As Attached', 'Innson', 'Isuzu', 'Skoda', 'Jaguar', 'Chrysler',\n",
              "       'Dodge', 'GMC', 'Land Rover.', 'Subaru', 'GAC', 'Fiat', 'Opel',\n",
              "       'Astra', 'Motorcycle', 'ZOYTE', 'Seat', 'FOTON', 'Howo', 'Lincoln',\n",
              "       'Rols Royce', 'CHANGAN', 'LIBERTY', 'ABG', 'Yamaha', 'Black',\n",
              "       'Tata', 'Ashok Leyland', 'Geely', 'Caddillac', 'Wrangler Jeep',\n",
              "       'Raston', 'MG', 'BRILLIANCE', 'Buik', 'COMMANDER', 'Bajaj',\n",
              "       'Datsun'], dtype=object)"
            ]
          },
          "metadata": {
            "tags": []
          },
          "execution_count": 48
        }
      ]
    },
    {
      "cell_type": "code",
      "metadata": {
        "scrolled": true,
        "id": "lcogugFrKzXf",
        "colab": {
          "base_uri": "https://localhost:8080/"
        },
        "outputId": "80935361-1e20-47e4-8e41-915864160bbb"
      },
      "source": [
        "all_data.LGA_Name.unique()"
      ],
      "execution_count": null,
      "outputs": [
        {
          "output_type": "execute_result",
          "data": {
            "text/plain": [
              "array(['no data', 'Lagos', 'Ikeja', 'Badagry', 'Eti-Osa',\n",
              "       'Victoria Island', 'Ikoyi', 'Lagos Mainland', 'EFFURUN',\n",
              "       'Abeokuta', 'Abuja Municipal', 'Yaba', 'Aguda', 'Surulere',\n",
              "       'Oshodi-Isolo', 'Alimosho', 'Okpe, Delta State', 'Asaba',\n",
              "       'IbadanCentral', 'Lekki', 'Ibeju/Lekki', 'OBANIKORO', 'Agege',\n",
              "       'ISHERI', 'Kosofe', 'OGUN', 'Apapa', 'Ibadan South West',\n",
              "       'Obia/Akpor', 'Ibadan South East', 'Sapele', 'Kaduna South',\n",
              "       'Ikorodu', 'Amuwo-Odofin', 'Awka', 'GBAGADA', 'Port Harcourt',\n",
              "       'Minna', 'Shomolu', 'Benin', 'Lagos Island', 'Central',\n",
              "       'Ebute-Metta', 'Ketu', 'Uyo', 'Mushin', 'Katagum', 'ENUGU EAST',\n",
              "       'Oredo', 'Abuja', 'Festac', 'Ipaja', 'Zaria ', 'Esan West',\n",
              "       'Oluyole', 'Bwari', 'Obafemi-Owode', 'LGA', 'Orile-Iganmu',\n",
              "       'Egbeda', 'Ido', 'Ifako-Ijaye ', 'Ibadan North', 'Oguta',\n",
              "       'Jos North', 'Ajah', 'Ondo West', 'Kaduna North', 'Warri',\n",
              "       'Aniocha South', 'Owerri', 'Awka South', 'Asokoro District',\n",
              "       'Ile-Oluji', 'Ijebu Ode', 'Port-Harcourt', 'Oshodi', 'EMENE',\n",
              "       'Alagbado', 'Wuse 11', 'Egor', 'Biase', 'Shagamu', 'Nnewi North',\n",
              "       'Aboh-Mbaise', 'IBADAN NORTH EAST', 'Akinyele', 'Oyo',\n",
              "       'Akoko North West', 'OGBA', 'Warri Central', 'Ilupeju', 'Calabar',\n",
              "       'Jos South', 'Onitsha North', 'AKUTE', 'Ifo', 'Ojodu', 'Bekwara',\n",
              "       'Ibadan North West', 'Epe', 'Maryland', 'Osogbo', 'Kuje', 'Idanre',\n",
              "       'Ajeromi-Ifelodun', 'Olorunsogo', 'Udu', 'OGUDU', 'Kano Municipal',\n",
              "       'Ife Central', 'Ilorin West', 'Lagelu Ogbomosho North', 'Katcha',\n",
              "       'Isolo', 'Akwa Ibom', 'Anthony Village', 'Abeokuta South',\n",
              "       'MAGODO', 'Kaduna', 'Owerri-Municipal', 'OJOTA', 'Somolu',\n",
              "       'Nsit Ubium', 'Bonny', 'Udi Agwu', 'Essien Udim', 'Owerri West ',\n",
              "       'Akure', 'IJAIYE', 'Ogbmosho South', 'Marina', 'Orolu',\n",
              "       'Umuahia South', 'Ile-Ife', 'ABULE EGBA', 'Enugu North',\n",
              "       'Ovia SouthWest', 'OKOTA', 'Argungu', 'Okpe',\n",
              "       'Ajegunle,Lagos  State', 'Nnewi', 'AREPO', 'Irepodun',\n",
              "       'Ekiti South-West', 'Ogun Waterside', 'Ife North', 'RIVERS',\n",
              "       'Dopemu', 'Akure South', 'ONDO', 'Oyi ', 'Anambra East', 'Keffi',\n",
              "       'Etsako West', 'Uvwie', 'Ilorin', 'Akoka', 'Aba North',\n",
              "       'Awka North', 'Ibarapa Central', 'Ojo', 'AWOYAYA', 'Idemili North',\n",
              "       'Onitsha', 'IBA', 'Ikot Ekpene', 'Ijora', ' IFAKO', 'Niger State',\n",
              "       'Ogba/Egbema/Ndoni', 'Eleme', 'Ejigbo', 'Calabar Municipality',\n",
              "       'Abeokuta North', 'Yorro', 'Ilesha', 'Ikeja G.R.A', 'Goronyo',\n",
              "       'Chanchaga', 'AJAO ESTATE', 'Ekiti-East', 'Gombe', 'Ikotun', 'Iwo',\n",
              "       'AKOKO-EDO', 'Jibia', 'Obalende', 'Yenagoa', 'Ado-Odo/Ota',\n",
              "       'Oyo East', 'Rogo', 'Ilorin East', 'Ilesha West', 'Garki',\n",
              "       'kumbotso', 'Asa', 'Central Area, Abuja', 'Ukpoba', 'BARIGA',\n",
              "       'Ikenne', 'Kano', 'Ilasamaja', 'Ekeremor', 'ONIRU', 'SANGO OTTA',\n",
              "       'Owerri North', 'Umuahia', 'Eket', 'Garko', 'SANGOTEDO', 'Lokoja',\n",
              "       'Ilesha East', 'Esan Central', 'Isoko south', 'Ethiope East',\n",
              "       'QuaAn Pan', 'Warri North', 'Njaba', 'Akuku Toru', 'Ado-Ekiti',\n",
              "       'Agbor', 'Karu', 'Bauchi', 'Ijebu East', 'Orsu', 'MAGBORO',\n",
              "       'Bosso', 'Onitsha South', 'Ughelli North', 'Warri South',\n",
              "       'Nwangele', 'Abakaliki', 'Oyo West', 'Aba South', 'Ekiti',\n",
              "       'ALAPERE', 'ISHAGA', 'Isoko North', 'Oshimili North',\n",
              "       'Ndokwa East', 'Okrika', 'Tai ', 'OWODE', 'Oturkpo', 'Bida',\n",
              "       'Oshimili', 'Nnewi South', 'ENUGU SOUTH', 'Olamabolo', 'Ikwerre',\n",
              "       'Kajola', 'Palm Groove', 'Ijebu North', 'Akure North', 'Ohaukwu',\n",
              "       'Asari-Toru', 'Ogbomoso', 'AKOWONJO', 'VGC', 'Ankpa', 'Zaria',\n",
              "       'AGBARA', 'Idemili south', 'Ekwusigo', 'Hong', 'Ifako-Agege',\n",
              "       'Benue', 'Okpokwu', 'Ngor-Okpala'], dtype=object)"
            ]
          },
          "metadata": {
            "tags": []
          },
          "execution_count": 49
        }
      ]
    },
    {
      "cell_type": "code",
      "metadata": {
        "scrolled": true,
        "id": "T7Gai7zHKzXg",
        "colab": {
          "base_uri": "https://localhost:8080/"
        },
        "outputId": "0c4fbb7f-ccf5-49d6-cb71-0f1a53818224"
      },
      "source": [
        "all_data.State.unique()"
      ],
      "execution_count": null,
      "outputs": [
        {
          "output_type": "execute_result",
          "data": {
            "text/plain": [
              "array(['no data', 'Lagos', 'Benue', 'Eti-Osa', 'Delta', 'Ogun',\n",
              "       'Abuja-Municipal', 'Oshodi-Isolo', 'Ibeju-Lekki', 'Ibadan-West',\n",
              "       'Obia-Akpor', 'Ibadan-East', 'Kaduna-South', 'Amuwo-Odofin',\n",
              "       'Anambra', 'Rivers', 'Niger-State', 'Edo', 'Akwa-Ibom',\n",
              "       'ENUGU-EAST', 'Abuja', 'Kaduna', 'Esan-West', 'Obafemi-Owode',\n",
              "       'Orile-Iganmu', 'Ifako-Ijaye', 'Ibadan-North', 'Imo', 'Jos-North',\n",
              "       'Ondo-West', 'Kaduna-North', 'Aniocha-South', 'Awka-South',\n",
              "       'Ile-Oluji', 'Ijebu-Ode', 'Port-Harcourt', 'Nnewi-North',\n",
              "       'Aboh-Mbaise', 'Oyo', 'Akoko-West', 'Warri-Central', 'Cross-River',\n",
              "       'Jos-South', 'Onitsha-North', 'Osun', 'Ajeromi-Ifelodun',\n",
              "       'Kano-Municipal', 'Ife-Central', 'Ilorin-West', 'Lagelu-North',\n",
              "       'Owerri-Municipal', 'Nsit-Ubium', 'Udi-Agwu', 'Essien-Udim',\n",
              "       'Owerri-West', 'Ondo', 'Ogbmosho-South', 'Umuahia-South',\n",
              "       'ABULE-EGBA', 'Enugu-North', 'Ovia-SouthWest', 'Kebbi',\n",
              "       'Ajegunle-State', 'Ekiti-West', 'Ogun-Waterside', 'Ife-North',\n",
              "       'Anambra-East', 'Nasarawa', 'Etsako-West', 'Kwara', 'Aba-North',\n",
              "       'Awka-North', 'Ibarapa-Central', 'Idemili-North', 'Ogba-Ndoni',\n",
              "       'Calabar-Municipality', 'AJAO-ESTATE', 'Ekiti-East', 'Gombe',\n",
              "       'Bayelsa', 'Ado-Ota', 'Oyo-East', 'Ilorin-East', 'Ilesha-West',\n",
              "       'Central-Abuja', 'Kano', 'Owerri-North', 'Abia', 'Kogi',\n",
              "       'Ilesha-East', 'Esan-Central', 'Isoko-south', 'Ethiope-East',\n",
              "       'QuaAn-Pan', 'Warri-North', 'Ado-Ekiti', 'Bauchi', 'Ijebu-East',\n",
              "       'Onitsha-South', 'Ughelli-North', 'Warri-South', 'Ebonyi',\n",
              "       'Oyo-West', 'Aba-South', 'N-A', 'Isoko-North', 'Oshimili-North',\n",
              "       'Ndokwa-East', 'Nnewi-South', 'ENUGU-SOUTH', 'Ijebu-North',\n",
              "       'Asari-Toru', 'Idemili-south', 'Ngor-Okpala'], dtype=object)"
            ]
          },
          "metadata": {
            "tags": []
          },
          "execution_count": 50
        }
      ]
    },
    {
      "cell_type": "code",
      "metadata": {
        "id": "koumWzqiKzXh",
        "colab": {
          "base_uri": "https://localhost:8080/"
        },
        "outputId": "c8bcacff-2670-4507-e5d5-758dbe00763f"
      },
      "source": [
        "all_data.ProductName.unique()"
      ],
      "execution_count": null,
      "outputs": [
        {
          "output_type": "execute_result",
          "data": {
            "text/plain": [
              "array(['Car Classic', 'CarSafe', 'Muuve', 'CVTP', 'Car Plus',\n",
              "       'Motor Cycle', 'Customized Motor', 'CarFlex', 'Car Vintage'],\n",
              "      dtype=object)"
            ]
          },
          "metadata": {
            "tags": []
          },
          "execution_count": 51
        }
      ]
    },
    {
      "cell_type": "markdown",
      "metadata": {
        "id": "qn-TRoQUBC9I"
      },
      "source": [
        "#### Implementing Label Encoder"
      ]
    },
    {
      "cell_type": "code",
      "metadata": {
        "scrolled": true,
        "id": "eR7d25yuKzXh"
      },
      "source": [
        "le = preprocessing.LabelEncoder()\n",
        "\n",
        "all_data.Gender = le.fit_transform(all_data.Gender)\n",
        "all_data.Car_Category = le.fit_transform(all_data.Car_Category)\n",
        "all_data.Subject_Car_Colour = le.fit_transform(all_data.Subject_Car_Colour)\n",
        "all_data.Subject_Car_Make = le.fit_transform(all_data.Subject_Car_Make)\n",
        "all_data.LGA_Name = le.fit_transform(all_data.LGA_Name)\n",
        "all_data.State = le.fit_transform(all_data.State)\n",
        "all_data.ProductName = le.fit_transform(all_data.ProductName)"
      ],
      "execution_count": null,
      "outputs": []
    },
    {
      "cell_type": "code",
      "metadata": {
        "id": "GnCqd2T-KzXi",
        "colab": {
          "base_uri": "https://localhost:8080/",
          "height": 258
        },
        "outputId": "24063aad-1570-41cf-e1ef-5f28a4ba7a6a"
      },
      "source": [
        "all_data.head()"
      ],
      "execution_count": null,
      "outputs": [
        {
          "output_type": "execute_result",
          "data": {
            "text/html": [
              "<div>\n",
              "<style scoped>\n",
              "    .dataframe tbody tr th:only-of-type {\n",
              "        vertical-align: middle;\n",
              "    }\n",
              "\n",
              "    .dataframe tbody tr th {\n",
              "        vertical-align: top;\n",
              "    }\n",
              "\n",
              "    .dataframe thead th {\n",
              "        text-align: right;\n",
              "    }\n",
              "</style>\n",
              "<table border=\"1\" class=\"dataframe\">\n",
              "  <thead>\n",
              "    <tr style=\"text-align: right;\">\n",
              "      <th></th>\n",
              "      <th>ID</th>\n",
              "      <th>Gender</th>\n",
              "      <th>Age</th>\n",
              "      <th>No_Pol</th>\n",
              "      <th>Car_Category</th>\n",
              "      <th>Subject_Car_Colour</th>\n",
              "      <th>Subject_Car_Make</th>\n",
              "      <th>LGA_Name</th>\n",
              "      <th>State</th>\n",
              "      <th>ProductName</th>\n",
              "      <th>target</th>\n",
              "      <th>Policy Start Date_year</th>\n",
              "      <th>Policy Start Date_day</th>\n",
              "      <th>Policy Start Date_month</th>\n",
              "      <th>Policy Start Date_quarter</th>\n",
              "      <th>Policy End Date_year</th>\n",
              "      <th>Policy End Date_day</th>\n",
              "      <th>Policy End Date_month</th>\n",
              "      <th>Policy End Date_quarter</th>\n",
              "      <th>First Transaction Date_year</th>\n",
              "      <th>First Transaction Date_day</th>\n",
              "      <th>First Transaction Date_month</th>\n",
              "      <th>First Transaction Date_quarter</th>\n",
              "    </tr>\n",
              "  </thead>\n",
              "  <tbody>\n",
              "    <tr>\n",
              "      <th>0</th>\n",
              "      <td>ID_0040R73</td>\n",
              "      <td>1</td>\n",
              "      <td>30</td>\n",
              "      <td>1</td>\n",
              "      <td>8</td>\n",
              "      <td>4</td>\n",
              "      <td>68</td>\n",
              "      <td>270</td>\n",
              "      <td>113</td>\n",
              "      <td>1</td>\n",
              "      <td>0</td>\n",
              "      <td>2</td>\n",
              "      <td>14</td>\n",
              "      <td>5</td>\n",
              "      <td>2</td>\n",
              "      <td>2</td>\n",
              "      <td>13</td>\n",
              "      <td>5</td>\n",
              "      <td>2</td>\n",
              "      <td>2</td>\n",
              "      <td>14</td>\n",
              "      <td>5</td>\n",
              "      <td>2</td>\n",
              "    </tr>\n",
              "    <tr>\n",
              "      <th>1</th>\n",
              "      <td>ID_0046BNK</td>\n",
              "      <td>0</td>\n",
              "      <td>79</td>\n",
              "      <td>1</td>\n",
              "      <td>2</td>\n",
              "      <td>26</td>\n",
              "      <td>68</td>\n",
              "      <td>270</td>\n",
              "      <td>113</td>\n",
              "      <td>1</td>\n",
              "      <td>1</td>\n",
              "      <td>4</td>\n",
              "      <td>29</td>\n",
              "      <td>11</td>\n",
              "      <td>4</td>\n",
              "      <td>4</td>\n",
              "      <td>28</td>\n",
              "      <td>11</td>\n",
              "      <td>4</td>\n",
              "      <td>4</td>\n",
              "      <td>29</td>\n",
              "      <td>11</td>\n",
              "      <td>4</td>\n",
              "    </tr>\n",
              "    <tr>\n",
              "      <th>2</th>\n",
              "      <td>ID_005QMC3</td>\n",
              "      <td>1</td>\n",
              "      <td>43</td>\n",
              "      <td>1</td>\n",
              "      <td>8</td>\n",
              "      <td>32</td>\n",
              "      <td>68</td>\n",
              "      <td>270</td>\n",
              "      <td>113</td>\n",
              "      <td>1</td>\n",
              "      <td>0</td>\n",
              "      <td>1</td>\n",
              "      <td>21</td>\n",
              "      <td>3</td>\n",
              "      <td>1</td>\n",
              "      <td>1</td>\n",
              "      <td>20</td>\n",
              "      <td>3</td>\n",
              "      <td>1</td>\n",
              "      <td>1</td>\n",
              "      <td>21</td>\n",
              "      <td>3</td>\n",
              "      <td>1</td>\n",
              "    </tr>\n",
              "    <tr>\n",
              "      <th>3</th>\n",
              "      <td>ID_0079OHW</td>\n",
              "      <td>1</td>\n",
              "      <td>2</td>\n",
              "      <td>1</td>\n",
              "      <td>16</td>\n",
              "      <td>46</td>\n",
              "      <td>75</td>\n",
              "      <td>270</td>\n",
              "      <td>113</td>\n",
              "      <td>5</td>\n",
              "      <td>0</td>\n",
              "      <td>3</td>\n",
              "      <td>21</td>\n",
              "      <td>8</td>\n",
              "      <td>3</td>\n",
              "      <td>3</td>\n",
              "      <td>20</td>\n",
              "      <td>8</td>\n",
              "      <td>3</td>\n",
              "      <td>3</td>\n",
              "      <td>21</td>\n",
              "      <td>8</td>\n",
              "      <td>3</td>\n",
              "    </tr>\n",
              "    <tr>\n",
              "      <th>4</th>\n",
              "      <td>ID_00BRP63</td>\n",
              "      <td>2</td>\n",
              "      <td>20</td>\n",
              "      <td>3</td>\n",
              "      <td>16</td>\n",
              "      <td>46</td>\n",
              "      <td>75</td>\n",
              "      <td>165</td>\n",
              "      <td>74</td>\n",
              "      <td>8</td>\n",
              "      <td>1</td>\n",
              "      <td>3</td>\n",
              "      <td>29</td>\n",
              "      <td>8</td>\n",
              "      <td>3</td>\n",
              "      <td>4</td>\n",
              "      <td>31</td>\n",
              "      <td>12</td>\n",
              "      <td>4</td>\n",
              "      <td>3</td>\n",
              "      <td>29</td>\n",
              "      <td>8</td>\n",
              "      <td>3</td>\n",
              "    </tr>\n",
              "  </tbody>\n",
              "</table>\n",
              "</div>"
            ],
            "text/plain": [
              "           ID  ...  First Transaction Date_quarter\n",
              "0  ID_0040R73  ...                               2\n",
              "1  ID_0046BNK  ...                               4\n",
              "2  ID_005QMC3  ...                               1\n",
              "3  ID_0079OHW  ...                               3\n",
              "4  ID_00BRP63  ...                               3\n",
              "\n",
              "[5 rows x 23 columns]"
            ]
          },
          "metadata": {
            "tags": []
          },
          "execution_count": 53
        }
      ]
    },
    {
      "cell_type": "code",
      "metadata": {
        "id": "vDp3iOzlKzXj"
      },
      "source": [
        "all_data.drop(columns=['ID'],inplace=True)"
      ],
      "execution_count": null,
      "outputs": []
    },
    {
      "cell_type": "markdown",
      "metadata": {
        "id": "j6kbm2TmKzXk"
      },
      "source": [
        "### Splitting the dataset"
      ]
    },
    {
      "cell_type": "code",
      "metadata": {
        "id": "bjqzzvB3KzXk"
      },
      "source": [
        "#Get the new dataset\n",
        "train_n = all_data[:ntrain]\n",
        "test_n = all_data[ntrain:]"
      ],
      "execution_count": null,
      "outputs": []
    },
    {
      "cell_type": "code",
      "metadata": {
        "id": "lc0y77l0KzXl"
      },
      "source": [
        "test_n.drop(\"target\",axis = 1,inplace = True)"
      ],
      "execution_count": null,
      "outputs": []
    },
    {
      "cell_type": "code",
      "metadata": {
        "id": "VemlmA10KzXm"
      },
      "source": [
        "X= train_n.drop(columns=['target'])\n",
        "y= train_n.target"
      ],
      "execution_count": null,
      "outputs": []
    },
    {
      "cell_type": "code",
      "metadata": {
        "id": "6M_Ngj6OKzXm"
      },
      "source": [
        "X_train, X_test, y_train, y_test = train_test_split(X,y,test_size=0.33, random_state=45, stratify=y)"
      ],
      "execution_count": null,
      "outputs": []
    },
    {
      "cell_type": "markdown",
      "metadata": {
        "id": "XnV8dDqHFN5W"
      },
      "source": [
        "### Create Model - LightGBM"
      ]
    },
    {
      "cell_type": "code",
      "metadata": {
        "id": "HxlhMimzFN5X"
      },
      "source": [
        "from lightgbm import LGBMClassifier"
      ],
      "execution_count": null,
      "outputs": []
    },
    {
      "cell_type": "code",
      "metadata": {
        "id": "sUMyLIBodvKS"
      },
      "source": [
        "#from sklearn.utils import class_weight\n",
        "#class_weight = dict(zip(np.unique(y), class_weight.compute_class_weight('balanced',np.unique(y),y))) "
      ],
      "execution_count": null,
      "outputs": []
    },
    {
      "cell_type": "markdown",
      "metadata": {
        "id": "sidQvRtryb2M"
      },
      "source": [
        "In training this model, 8-fold cross validation on the training data was performed, thereby predicting on the test set after each iteration. The modal value of all the 8 predictions was then used to make the final submission.\n",
        "\n",
        "Since an imbalanced dataset was involved, the `scale_pos_weight` hyperperameter was considered, which was manually tuned so as to balance the ratio of both positive and negative classes in the dataset."
      ]
    },
    {
      "cell_type": "code",
      "metadata": {
        "id": "bBmsN-rWFN5Z"
      },
      "source": [
        "from sklearn.model_selection import StratifiedKFold\n",
        "predictions = []\n",
        "fold=StratifiedKFold(n_splits=8,shuffle=True, random_state=45)\n",
        "for train_index, test_index in fold.split(X,y):\n",
        "    X_train, X_test = X.iloc[train_index], X.iloc[test_index]\n",
        "    Y_train, Y_test = y[train_index], y[test_index]\n",
        "    classifier2=LGBMClassifier(learning_rate=0.1, n_estimators=800, scale_pos_weight = 5.0)\n",
        "    classifier2.fit(X_train, Y_train)\n",
        "    preds=classifier2.predict(X_test)\n",
        "    predictions.append(classifier2.predict(test_n))"
      ],
      "execution_count": null,
      "outputs": []
    },
    {
      "cell_type": "markdown",
      "metadata": {
        "id": "_Iunop7lIdR8"
      },
      "source": [
        "##### Feature Selection"
      ]
    },
    {
      "cell_type": "markdown",
      "metadata": {
        "id": "Wa-iMsP430lS"
      },
      "source": [
        "Here, the key features that are relevant to creating the model was extracted, and then the model is retrained using these important features. This is done so as to improve the model performance."
      ]
    },
    {
      "cell_type": "code",
      "metadata": {
        "id": "EMhLY9A6GXg0",
        "colab": {
          "base_uri": "https://localhost:8080/",
          "height": 699
        },
        "outputId": "8229bdc2-0fb7-43f1-97a4-5fb96adc7480"
      },
      "source": [
        "feature_importance_df = pd.DataFrame(classifier2.feature_importances_, columns=['importance'])\n",
        "feature_importance_df['feature'] = X_train.columns\n",
        "\n",
        "plt.figure(figsize=(20, 12));\n",
        "sns.barplot(x=\"importance\", y=\"feature\", data=feature_importance_df.sort_values(by = ['importance'], ascending = False))\n",
        "plt.title('LGBM features importance:');"
      ],
      "execution_count": null,
      "outputs": [
        {
          "output_type": "display_data",
          "data": {
            "image/png": "[encoded data removed]",
            "text/plain": [
              "<Figure size 1440x864 with 1 Axes>"
            ]
          },
          "metadata": {
            "tags": [],
            "needs_background": "light"
          }
        }
      ]
    },
    {
      "cell_type": "markdown",
      "metadata": {
        "id": "JRpQwFVd4i2z"
      },
      "source": [
        "From the above plot, it is obvious that some of the features are absolutely dummies in the model, after much training, the top 13 features are selected as the optimal features for retraining the model to yield a better performance."
      ]
    },
    {
      "cell_type": "code",
      "metadata": {
        "colab": {
          "base_uri": "https://localhost:8080/"
        },
        "id": "uLFwdRZCIqPo",
        "outputId": "3cfa9115-6f43-478b-ad9f-f41c60760434"
      },
      "source": [
        "feature_importance_df = pd.DataFrame(classifier2.feature_importances_, columns=['importance'])\n",
        "feature_importance_df['feature'] = X_train.columns\n",
        "feature_importance = feature_importance_df.sort_values(by='importance',ascending=False).head(13)\n",
        "feat_imp = feature_importance['feature'].to_list()\n",
        "feat_imp"
      ],
      "execution_count": null,
      "outputs": [
        {
          "output_type": "execute_result",
          "data": {
            "text/plain": [
              "['Age',\n",
              " 'Policy Start Date_day',\n",
              " 'Policy End Date_day',\n",
              " 'LGA_Name',\n",
              " 'Subject_Car_Make',\n",
              " 'Subject_Car_Colour',\n",
              " 'Policy Start Date_month',\n",
              " 'Policy End Date_month',\n",
              " 'State',\n",
              " 'Car_Category',\n",
              " 'Gender',\n",
              " 'ProductName',\n",
              " 'Policy Start Date_year']"
            ]
          },
          "metadata": {
            "tags": []
          },
          "execution_count": 63
        }
      ]
    },
    {
      "cell_type": "markdown",
      "metadata": {
        "id": "E-gUWMuOKfTd"
      },
      "source": [
        "##### Training model with selected features"
      ]
    },
    {
      "cell_type": "code",
      "metadata": {
        "id": "aFZ7nRQ3Ipzm"
      },
      "source": [
        "from sklearn.model_selection import StratifiedKFold\n",
        "predictions = []\n",
        "fold=StratifiedKFold(n_splits=8,shuffle=True, random_state=45)\n",
        "for train_index, test_index in fold.split(X[feat_imp],y):\n",
        "    X_train, X_test = X[feat_imp].iloc[train_index], X[feat_imp].iloc[test_index]\n",
        "    Y_train, Y_test = y[train_index], y[test_index]\n",
        "    classifier2=LGBMClassifier(learning_rate=0.1, n_estimators=800, scale_pos_weight = 5.0, objective='binary')\n",
        "    classifier2.fit(X_train, Y_train)\n",
        "    preds=classifier2.predict(X_test)\n",
        "    predictions.append(classifier2.predict(test_n[feat_imp]))"
      ],
      "execution_count": null,
      "outputs": []
    },
    {
      "cell_type": "markdown",
      "metadata": {
        "id": "X2oh3RuF5SGY"
      },
      "source": [
        "### Framing the predictions"
      ]
    },
    {
      "cell_type": "code",
      "metadata": {
        "id": "3RmW12K7Ipl9"
      },
      "source": [
        "predictions = pd.DataFrame(predictions)"
      ],
      "execution_count": null,
      "outputs": []
    },
    {
      "cell_type": "code",
      "metadata": {
        "colab": {
          "base_uri": "https://localhost:8080/",
          "height": 204
        },
        "id": "hCv2iMyHIpSe",
        "outputId": "ed41ce0e-f123-4f2b-ff22-150e6c1f6c25"
      },
      "source": [
        "predictions.T.head()"
      ],
      "execution_count": null,
      "outputs": [
        {
          "output_type": "execute_result",
          "data": {
            "text/html": [
              "<div>\n",
              "<style scoped>\n",
              "    .dataframe tbody tr th:only-of-type {\n",
              "        vertical-align: middle;\n",
              "    }\n",
              "\n",
              "    .dataframe tbody tr th {\n",
              "        vertical-align: top;\n",
              "    }\n",
              "\n",
              "    .dataframe thead th {\n",
              "        text-align: right;\n",
              "    }\n",
              "</style>\n",
              "<table border=\"1\" class=\"dataframe\">\n",
              "  <thead>\n",
              "    <tr style=\"text-align: right;\">\n",
              "      <th></th>\n",
              "      <th>0</th>\n",
              "      <th>1</th>\n",
              "      <th>2</th>\n",
              "      <th>3</th>\n",
              "      <th>4</th>\n",
              "      <th>5</th>\n",
              "      <th>6</th>\n",
              "      <th>7</th>\n",
              "    </tr>\n",
              "  </thead>\n",
              "  <tbody>\n",
              "    <tr>\n",
              "      <th>0</th>\n",
              "      <td>0</td>\n",
              "      <td>0</td>\n",
              "      <td>0</td>\n",
              "      <td>0</td>\n",
              "      <td>0</td>\n",
              "      <td>0</td>\n",
              "      <td>0</td>\n",
              "      <td>0</td>\n",
              "    </tr>\n",
              "    <tr>\n",
              "      <th>1</th>\n",
              "      <td>0</td>\n",
              "      <td>0</td>\n",
              "      <td>0</td>\n",
              "      <td>0</td>\n",
              "      <td>0</td>\n",
              "      <td>0</td>\n",
              "      <td>0</td>\n",
              "      <td>0</td>\n",
              "    </tr>\n",
              "    <tr>\n",
              "      <th>2</th>\n",
              "      <td>0</td>\n",
              "      <td>0</td>\n",
              "      <td>0</td>\n",
              "      <td>0</td>\n",
              "      <td>0</td>\n",
              "      <td>0</td>\n",
              "      <td>0</td>\n",
              "      <td>0</td>\n",
              "    </tr>\n",
              "    <tr>\n",
              "      <th>3</th>\n",
              "      <td>0</td>\n",
              "      <td>0</td>\n",
              "      <td>0</td>\n",
              "      <td>0</td>\n",
              "      <td>0</td>\n",
              "      <td>0</td>\n",
              "      <td>0</td>\n",
              "      <td>0</td>\n",
              "    </tr>\n",
              "    <tr>\n",
              "      <th>4</th>\n",
              "      <td>0</td>\n",
              "      <td>0</td>\n",
              "      <td>0</td>\n",
              "      <td>0</td>\n",
              "      <td>0</td>\n",
              "      <td>0</td>\n",
              "      <td>0</td>\n",
              "      <td>0</td>\n",
              "    </tr>\n",
              "  </tbody>\n",
              "</table>\n",
              "</div>"
            ],
            "text/plain": [
              "   0  1  2  3  4  5  6  7\n",
              "0  0  0  0  0  0  0  0  0\n",
              "1  0  0  0  0  0  0  0  0\n",
              "2  0  0  0  0  0  0  0  0\n",
              "3  0  0  0  0  0  0  0  0\n",
              "4  0  0  0  0  0  0  0  0"
            ]
          },
          "metadata": {
            "tags": []
          },
          "execution_count": 66
        }
      ]
    },
    {
      "cell_type": "code",
      "metadata": {
        "id": "7XO8nHIaIpJH"
      },
      "source": [
        "predictions = predictions.mode()"
      ],
      "execution_count": null,
      "outputs": []
    },
    {
      "cell_type": "code",
      "metadata": {
        "colab": {
          "base_uri": "https://localhost:8080/",
          "height": 419
        },
        "id": "ozM4HImOIoxh",
        "outputId": "21f422e0-3475-49e0-f2ab-be2da38252e3"
      },
      "source": [
        "predictions = predictions.T\n",
        "predictions"
      ],
      "execution_count": null,
      "outputs": [
        {
          "output_type": "execute_result",
          "data": {
            "text/html": [
              "<div>\n",
              "<style scoped>\n",
              "    .dataframe tbody tr th:only-of-type {\n",
              "        vertical-align: middle;\n",
              "    }\n",
              "\n",
              "    .dataframe tbody tr th {\n",
              "        vertical-align: top;\n",
              "    }\n",
              "\n",
              "    .dataframe thead th {\n",
              "        text-align: right;\n",
              "    }\n",
              "</style>\n",
              "<table border=\"1\" class=\"dataframe\">\n",
              "  <thead>\n",
              "    <tr style=\"text-align: right;\">\n",
              "      <th></th>\n",
              "      <th>0</th>\n",
              "      <th>1</th>\n",
              "    </tr>\n",
              "  </thead>\n",
              "  <tbody>\n",
              "    <tr>\n",
              "      <th>0</th>\n",
              "      <td>0.0</td>\n",
              "      <td>NaN</td>\n",
              "    </tr>\n",
              "    <tr>\n",
              "      <th>1</th>\n",
              "      <td>0.0</td>\n",
              "      <td>NaN</td>\n",
              "    </tr>\n",
              "    <tr>\n",
              "      <th>2</th>\n",
              "      <td>0.0</td>\n",
              "      <td>NaN</td>\n",
              "    </tr>\n",
              "    <tr>\n",
              "      <th>3</th>\n",
              "      <td>0.0</td>\n",
              "      <td>NaN</td>\n",
              "    </tr>\n",
              "    <tr>\n",
              "      <th>4</th>\n",
              "      <td>0.0</td>\n",
              "      <td>NaN</td>\n",
              "    </tr>\n",
              "    <tr>\n",
              "      <th>...</th>\n",
              "      <td>...</td>\n",
              "      <td>...</td>\n",
              "    </tr>\n",
              "    <tr>\n",
              "      <th>1197</th>\n",
              "      <td>0.0</td>\n",
              "      <td>NaN</td>\n",
              "    </tr>\n",
              "    <tr>\n",
              "      <th>1198</th>\n",
              "      <td>0.0</td>\n",
              "      <td>NaN</td>\n",
              "    </tr>\n",
              "    <tr>\n",
              "      <th>1199</th>\n",
              "      <td>0.0</td>\n",
              "      <td>NaN</td>\n",
              "    </tr>\n",
              "    <tr>\n",
              "      <th>1200</th>\n",
              "      <td>0.0</td>\n",
              "      <td>NaN</td>\n",
              "    </tr>\n",
              "    <tr>\n",
              "      <th>1201</th>\n",
              "      <td>1.0</td>\n",
              "      <td>NaN</td>\n",
              "    </tr>\n",
              "  </tbody>\n",
              "</table>\n",
              "<p>1202 rows × 2 columns</p>\n",
              "</div>"
            ],
            "text/plain": [
              "        0   1\n",
              "0     0.0 NaN\n",
              "1     0.0 NaN\n",
              "2     0.0 NaN\n",
              "3     0.0 NaN\n",
              "4     0.0 NaN\n",
              "...   ...  ..\n",
              "1197  0.0 NaN\n",
              "1198  0.0 NaN\n",
              "1199  0.0 NaN\n",
              "1200  0.0 NaN\n",
              "1201  1.0 NaN\n",
              "\n",
              "[1202 rows x 2 columns]"
            ]
          },
          "metadata": {
            "tags": []
          },
          "execution_count": 68
        }
      ]
    },
    {
      "cell_type": "code",
      "metadata": {
        "colab": {
          "base_uri": "https://localhost:8080/"
        },
        "id": "NzvAmyFsIoeO",
        "outputId": "1c67ec7e-5760-4b8d-ab9b-d2ea47995777"
      },
      "source": [
        "sub = predictions[0]\n",
        "sub.head()"
      ],
      "execution_count": null,
      "outputs": [
        {
          "output_type": "execute_result",
          "data": {
            "text/plain": [
              "0    0.0\n",
              "1    0.0\n",
              "2    0.0\n",
              "3    0.0\n",
              "4    0.0\n",
              "Name: 0, dtype: float64"
            ]
          },
          "metadata": {
            "tags": []
          },
          "execution_count": 69
        }
      ]
    },
    {
      "cell_type": "code",
      "metadata": {
        "id": "SyvYIZx5IoLu"
      },
      "source": [
        "sub_file = ss.copy()\n",
        "sub_file.target = sub"
      ],
      "execution_count": null,
      "outputs": []
    },
    {
      "cell_type": "code",
      "metadata": {
        "id": "K5GescX5In-d"
      },
      "source": [
        "sub_file.to_csv('reproducibility_prediction1.csv',index=False)"
      ],
      "execution_count": 72,
      "outputs": []
    },
    {
      "cell_type": "code",
      "metadata": {
        "id": "M_hWTGh2HZNo"
      },
      "source": [
        ""
      ],
      "execution_count": null,
      "outputs": []
    }
  ]
}